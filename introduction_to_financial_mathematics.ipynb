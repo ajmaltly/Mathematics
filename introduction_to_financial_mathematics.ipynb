{
  "cells": [
    {
      "cell_type": "markdown",
      "id": "indonesian-terminal",
      "metadata": {
        "papermill": {
          "duration": 0.104703,
          "end_time": "2021-11-18T15:43:09.699791",
          "exception": false,
          "start_time": "2021-11-18T15:43:09.595088",
          "status": "completed"
        },
        "tags": [],
        "id": "indonesian-terminal"
      },
      "source": [
        "# Introduction To Financial Mathematics"
      ]
    },
    {
      "cell_type": "markdown",
      "id": "numerous-xerox",
      "metadata": {
        "papermill": {
          "duration": 0.098546,
          "end_time": "2021-11-18T15:43:09.897164",
          "exception": false,
          "start_time": "2021-11-18T15:43:09.798618",
          "status": "completed"
        },
        "tags": [],
        "id": "numerous-xerox"
      },
      "source": [
        "This notebook will give you an introduction into core concepts in financial mathematics, along with formulas and Python implementations. You will learn how to calculate (compound) interest, price options, option trading strategies, option portfolio hedging and basic risk management calculations. Some concepts will look complex at first, but become clear once you learn the intuition behind it and compare the formulas to the code. Let's dive into financial mathematics!\n",
        "\n",
        "![](https://memegenerator.net/img/instances/81277641.jpg)"
      ]
    },
    {
      "cell_type": "markdown",
      "id": "operational-yacht",
      "metadata": {
        "papermill": {
          "duration": 0.098333,
          "end_time": "2021-11-18T15:43:10.095035",
          "exception": false,
          "start_time": "2021-11-18T15:43:09.996702",
          "status": "completed"
        },
        "tags": [],
        "id": "operational-yacht"
      },
      "source": [
        "## Dependencies"
      ]
    },
    {
      "cell_type": "markdown",
      "id": "radio-hungarian",
      "metadata": {
        "papermill": {
          "duration": 0.098019,
          "end_time": "2021-11-18T15:43:10.291697",
          "exception": false,
          "start_time": "2021-11-18T15:43:10.193678",
          "status": "completed"
        },
        "tags": [],
        "id": "radio-hungarian"
      },
      "source": [
        "As we will code the concepts from scratch we will use only basic Python libraries:\n",
        "\n",
        "- NumPy for linear algebra\n",
        "- Matplotlib for visualization\n",
        "- Scipy for optimization and probability distributions."
      ]
    },
    {
      "cell_type": "code",
      "execution_count": 1,
      "id": "arabic-compiler",
      "metadata": {
        "execution": {
          "iopub.execute_input": "2021-11-18T15:43:10.492166Z",
          "iopub.status.busy": "2021-11-18T15:43:10.491005Z",
          "iopub.status.idle": "2021-11-18T15:43:11.246375Z",
          "shell.execute_reply": "2021-11-18T15:43:11.245713Z",
          "shell.execute_reply.started": "2021-11-18T14:37:41.305921Z"
        },
        "papermill": {
          "duration": 0.8564,
          "end_time": "2021-11-18T15:43:11.246555",
          "exception": false,
          "start_time": "2021-11-18T15:43:10.390155",
          "status": "completed"
        },
        "tags": [],
        "id": "arabic-compiler"
      },
      "outputs": [],
      "source": [
        "import numpy as np\n",
        "import matplotlib.pyplot as plt \n",
        "from scipy.stats import norm\n",
        "from scipy.optimize import minimize"
      ]
    },
    {
      "cell_type": "markdown",
      "id": "occupied-elements",
      "metadata": {
        "papermill": {
          "duration": 0.097074,
          "end_time": "2021-11-18T15:43:11.441692",
          "exception": false,
          "start_time": "2021-11-18T15:43:11.344618",
          "status": "completed"
        },
        "tags": [],
        "id": "occupied-elements"
      },
      "source": [
        "## Interest"
      ]
    },
    {
      "cell_type": "markdown",
      "id": "light-branch",
      "metadata": {
        "papermill": {
          "duration": 0.09812,
          "end_time": "2021-11-18T15:43:11.639066",
          "exception": false,
          "start_time": "2021-11-18T15:43:11.540946",
          "status": "completed"
        },
        "tags": [],
        "id": "light-branch"
      },
      "source": [
        "One of the most fundamental concepts in financial mathematics is interest. A lot of investments are judged on percentage-wise returns and how they compound over time (i.e. build interest on interest). Investments are often compared to a \"risk-free interest rate\" $r_f$. This is the baseline of what we can earn on capital without risking its loss. $r_f$ changes over time and can even become negative as we have seen in recent years. In practice, assets like [US Treasury bonds](https://en.wikipedia.org/wiki/United_States_Treasury_security) are often regarded as risk-free, even though default is technically possible. \n",
        "\n",
        "To calculate interest our input parameters are interest rate $r$, Present Value $PV$ and $n$ periods (often expressed in years). With these values we can calculate future value $FV$. \n",
        "\n",
        "By rewriting the equation we can also derive $PV$ from $FV$. Lastly, we can derive the needed interest $r$ if we know both the desired $PV$ and $FV$."
      ]
    },
    {
      "cell_type": "code",
      "execution_count": 2,
      "id": "friendly-shield",
      "metadata": {
        "execution": {
          "iopub.execute_input": "2021-11-18T15:43:11.839509Z",
          "iopub.status.busy": "2021-11-18T15:43:11.838808Z",
          "iopub.status.idle": "2021-11-18T15:43:11.842128Z",
          "shell.execute_reply": "2021-11-18T15:43:11.841382Z",
          "shell.execute_reply.started": "2021-11-18T14:37:42.137855Z"
        },
        "papermill": {
          "duration": 0.105148,
          "end_time": "2021-11-18T15:43:11.842290",
          "exception": false,
          "start_time": "2021-11-18T15:43:11.737142",
          "status": "completed"
        },
        "tags": [],
        "id": "friendly-shield"
      },
      "outputs": [],
      "source": [
        "starting_capital = 1000 # PV\n",
        "r = 0.05 # 5% interest\n",
        "n = 50 # Years"
      ]
    },
    {
      "cell_type": "markdown",
      "id": "familiar-destiny",
      "metadata": {
        "papermill": {
          "duration": 0.09741,
          "end_time": "2021-11-18T15:43:12.038271",
          "exception": false,
          "start_time": "2021-11-18T15:43:11.940861",
          "status": "completed"
        },
        "tags": [],
        "id": "familiar-destiny"
      },
      "source": [
        "### Simple interest\n",
        "\n",
        "The easiest calculations will be for a percentage interest without compounding.\n",
        "\n",
        "$FV = (1+rn)PV$\n",
        "\n",
        "$PV = \\frac{FV}{1+rn}$\n",
        "\n",
        "$r = \\frac{\\frac{FV}{PV} - 1}{n}$"
      ]
    },
    {
      "cell_type": "code",
      "execution_count": 3,
      "id": "coordinate-terrorist",
      "metadata": {
        "execution": {
          "iopub.execute_input": "2021-11-18T15:43:12.244196Z",
          "iopub.status.busy": "2021-11-18T15:43:12.243258Z",
          "iopub.status.idle": "2021-11-18T15:43:12.247167Z",
          "shell.execute_reply": "2021-11-18T15:43:12.246515Z",
          "shell.execute_reply.started": "2021-11-18T14:37:42.144497Z"
        },
        "papermill": {
          "duration": 0.10932,
          "end_time": "2021-11-18T15:43:12.247314",
          "exception": false,
          "start_time": "2021-11-18T15:43:12.137994",
          "status": "completed"
        },
        "tags": [],
        "id": "coordinate-terrorist"
      },
      "outputs": [],
      "source": [
        "def fv_simple(pv: float, r: float, n: int):\n",
        "    return (1+r*n)*pv\n",
        "\n",
        "def pv_simple(fv: float, r: float, n: int):\n",
        "    return fv / (1 + r * n)\n",
        "    \n",
        "def r_simple(pv: float, fv: float, n: int):\n",
        "    return (fv/pv - 1) /  n"
      ]
    },
    {
      "cell_type": "code",
      "execution_count": 4,
      "id": "charged-soundtrack",
      "metadata": {
        "execution": {
          "iopub.execute_input": "2021-11-18T15:43:12.452364Z",
          "iopub.status.busy": "2021-11-18T15:43:12.451485Z",
          "iopub.status.idle": "2021-11-18T15:43:12.455537Z",
          "shell.execute_reply": "2021-11-18T15:43:12.456043Z",
          "shell.execute_reply.started": "2021-11-18T14:37:42.159184Z"
        },
        "papermill": {
          "duration": 0.110812,
          "end_time": "2021-11-18T15:43:12.456211",
          "exception": false,
          "start_time": "2021-11-18T15:43:12.345399",
          "status": "completed"
        },
        "tags": [],
        "colab": {
          "base_uri": "https://localhost:8080/"
        },
        "id": "charged-soundtrack",
        "outputId": "11563e8f-e76e-45d6-ebd4-03235cf529c0"
      },
      "outputs": [
        {
          "output_type": "execute_result",
          "data": {
            "text/plain": [
              "3500.0"
            ]
          },
          "metadata": {},
          "execution_count": 4
        }
      ],
      "source": [
        "fv = fv_simple(starting_capital, r, n)\n",
        "fv"
      ]
    },
    {
      "cell_type": "code",
      "execution_count": 5,
      "id": "annual-maintenance",
      "metadata": {
        "execution": {
          "iopub.execute_input": "2021-11-18T15:43:12.657995Z",
          "iopub.status.busy": "2021-11-18T15:43:12.655792Z",
          "iopub.status.idle": "2021-11-18T15:43:12.660773Z",
          "shell.execute_reply": "2021-11-18T15:43:12.661377Z",
          "shell.execute_reply.started": "2021-11-18T14:37:42.176805Z"
        },
        "papermill": {
          "duration": 0.105333,
          "end_time": "2021-11-18T15:43:12.661535",
          "exception": false,
          "start_time": "2021-11-18T15:43:12.556202",
          "status": "completed"
        },
        "tags": [],
        "colab": {
          "base_uri": "https://localhost:8080/"
        },
        "id": "annual-maintenance",
        "outputId": "8a3a0029-9b9c-47d1-de7c-cec3318aa281"
      },
      "outputs": [
        {
          "output_type": "execute_result",
          "data": {
            "text/plain": [
              "1000.0"
            ]
          },
          "metadata": {},
          "execution_count": 5
        }
      ],
      "source": [
        "pv = pv_simple(fv, r, n)\n",
        "pv"
      ]
    },
    {
      "cell_type": "code",
      "execution_count": 6,
      "id": "lined-protest",
      "metadata": {
        "execution": {
          "iopub.execute_input": "2021-11-18T15:43:12.861527Z",
          "iopub.status.busy": "2021-11-18T15:43:12.860914Z",
          "iopub.status.idle": "2021-11-18T15:43:12.866638Z",
          "shell.execute_reply": "2021-11-18T15:43:12.866150Z",
          "shell.execute_reply.started": "2021-11-18T14:37:42.188145Z"
        },
        "papermill": {
          "duration": 0.106962,
          "end_time": "2021-11-18T15:43:12.866776",
          "exception": false,
          "start_time": "2021-11-18T15:43:12.759814",
          "status": "completed"
        },
        "tags": [],
        "colab": {
          "base_uri": "https://localhost:8080/"
        },
        "id": "lined-protest",
        "outputId": "4a624e34-f8c1-4548-def3-d0fc8c115d94"
      },
      "outputs": [
        {
          "output_type": "execute_result",
          "data": {
            "text/plain": [
              "0.05"
            ]
          },
          "metadata": {},
          "execution_count": 6
        }
      ],
      "source": [
        "r_simple(pv, fv, n)"
      ]
    },
    {
      "cell_type": "markdown",
      "id": "surrounded-energy",
      "metadata": {
        "papermill": {
          "duration": 0.100703,
          "end_time": "2021-11-18T15:43:13.066136",
          "exception": false,
          "start_time": "2021-11-18T15:43:12.965433",
          "status": "completed"
        },
        "tags": [],
        "id": "surrounded-energy"
      },
      "source": [
        "### Compound Interest\n",
        "\n",
        "The simple formula above works for the case where we only get interest on the initial investment and does not take into account compound interest. The next equation takes compounding over $n$ periods into account. Note that this leads to a higher return."
      ]
    },
    {
      "cell_type": "markdown",
      "id": "beneficial-wagner",
      "metadata": {
        "papermill": {
          "duration": 0.098621,
          "end_time": "2021-11-18T15:43:13.265045",
          "exception": false,
          "start_time": "2021-11-18T15:43:13.166424",
          "status": "completed"
        },
        "tags": [],
        "id": "beneficial-wagner"
      },
      "source": [
        "$FV = (1+r)^nPV$\n",
        "\n",
        "$PV = \\frac{FV}{(1+r)^n}$\n",
        "\n",
        "$r = \\sqrt[n]{\\frac{FV}{PV}} - 1$"
      ]
    },
    {
      "cell_type": "code",
      "execution_count": 7,
      "id": "therapeutic-carpet",
      "metadata": {
        "execution": {
          "iopub.execute_input": "2021-11-18T15:43:13.465816Z",
          "iopub.status.busy": "2021-11-18T15:43:13.465201Z",
          "iopub.status.idle": "2021-11-18T15:43:13.471713Z",
          "shell.execute_reply": "2021-11-18T15:43:13.471196Z",
          "shell.execute_reply.started": "2021-11-18T14:37:42.200815Z"
        },
        "papermill": {
          "duration": 0.107804,
          "end_time": "2021-11-18T15:43:13.471855",
          "exception": false,
          "start_time": "2021-11-18T15:43:13.364051",
          "status": "completed"
        },
        "tags": [],
        "id": "therapeutic-carpet"
      },
      "outputs": [],
      "source": [
        "def fv_compound(pv, r: float, n: int):\n",
        "    return pv * (1+r)**n\n",
        "\n",
        "def pv_compound(fv: float, r: float, n: int):\n",
        "    return fv / (1 + r)**n\n",
        "\n",
        "def r_compound(pv: float, fv: float, n: int):\n",
        "    return (fv/pv)**(1/n) - 1"
      ]
    },
    {
      "cell_type": "code",
      "execution_count": 8,
      "id": "extensive-sullivan",
      "metadata": {
        "execution": {
          "iopub.execute_input": "2021-11-18T15:43:13.676326Z",
          "iopub.status.busy": "2021-11-18T15:43:13.675631Z",
          "iopub.status.idle": "2021-11-18T15:43:13.678876Z",
          "shell.execute_reply": "2021-11-18T15:43:13.679363Z",
          "shell.execute_reply.started": "2021-11-18T14:37:42.213981Z"
        },
        "papermill": {
          "duration": 0.106732,
          "end_time": "2021-11-18T15:43:13.679542",
          "exception": false,
          "start_time": "2021-11-18T15:43:13.572810",
          "status": "completed"
        },
        "tags": [],
        "colab": {
          "base_uri": "https://localhost:8080/"
        },
        "id": "extensive-sullivan",
        "outputId": "a42468bc-0eaa-4f85-e398-3c555057cf33"
      },
      "outputs": [
        {
          "output_type": "execute_result",
          "data": {
            "text/plain": [
              "11467.399785753702"
            ]
          },
          "metadata": {},
          "execution_count": 8
        }
      ],
      "source": [
        "fv = fv_compound(starting_capital, r, n)\n",
        "fv"
      ]
    },
    {
      "cell_type": "code",
      "execution_count": 9,
      "id": "subsequent-recycling",
      "metadata": {
        "execution": {
          "iopub.execute_input": "2021-11-18T15:43:13.883534Z",
          "iopub.status.busy": "2021-11-18T15:43:13.882738Z",
          "iopub.status.idle": "2021-11-18T15:43:13.887474Z",
          "shell.execute_reply": "2021-11-18T15:43:13.887948Z",
          "shell.execute_reply.started": "2021-11-18T14:37:42.229968Z"
        },
        "papermill": {
          "duration": 0.108273,
          "end_time": "2021-11-18T15:43:13.888140",
          "exception": false,
          "start_time": "2021-11-18T15:43:13.779867",
          "status": "completed"
        },
        "tags": [],
        "colab": {
          "base_uri": "https://localhost:8080/"
        },
        "id": "subsequent-recycling",
        "outputId": "5c7ff681-bd65-40f4-b3b7-47935421123b"
      },
      "outputs": [
        {
          "output_type": "execute_result",
          "data": {
            "text/plain": [
              "1000.0000000000001"
            ]
          },
          "metadata": {},
          "execution_count": 9
        }
      ],
      "source": [
        "pv = pv_compound(fv, r, n)\n",
        "pv"
      ]
    },
    {
      "cell_type": "code",
      "execution_count": 10,
      "id": "veterinary-institution",
      "metadata": {
        "execution": {
          "iopub.execute_input": "2021-11-18T15:43:14.093290Z",
          "iopub.status.busy": "2021-11-18T15:43:14.092686Z",
          "iopub.status.idle": "2021-11-18T15:43:14.097737Z",
          "shell.execute_reply": "2021-11-18T15:43:14.098238Z",
          "shell.execute_reply.started": "2021-11-18T14:37:42.241825Z"
        },
        "papermill": {
          "duration": 0.109338,
          "end_time": "2021-11-18T15:43:14.098398",
          "exception": false,
          "start_time": "2021-11-18T15:43:13.989060",
          "status": "completed"
        },
        "tags": [],
        "colab": {
          "base_uri": "https://localhost:8080/"
        },
        "id": "veterinary-institution",
        "outputId": "e51b364e-d559-4a02-b8c4-823099545b14"
      },
      "outputs": [
        {
          "output_type": "execute_result",
          "data": {
            "text/plain": [
              "0.050000000000000044"
            ]
          },
          "metadata": {},
          "execution_count": 10
        }
      ],
      "source": [
        "r_compound(pv, fv, n)"
      ]
    },
    {
      "cell_type": "markdown",
      "id": "driving-henry",
      "metadata": {
        "papermill": {
          "duration": 0.099873,
          "end_time": "2021-11-18T15:43:14.299238",
          "exception": false,
          "start_time": "2021-11-18T15:43:14.199365",
          "status": "completed"
        },
        "tags": [],
        "id": "driving-henry"
      },
      "source": [
        "### Periodic Interest\n",
        "\n",
        "In some cases we receive interest more than once a year, for example every month. To take this into account we introduce a parameter $m$ that indicates how many times a year we receive the interest. The higher $m$ is, the faster our investment can compound."
      ]
    },
    {
      "cell_type": "markdown",
      "id": "separate-leeds",
      "metadata": {
        "papermill": {
          "duration": 0.0994,
          "end_time": "2021-11-18T15:43:14.499312",
          "exception": false,
          "start_time": "2021-11-18T15:43:14.399912",
          "status": "completed"
        },
        "tags": [],
        "id": "separate-leeds"
      },
      "source": [
        "$FV = (1 + \\frac{r}{m})^{mn}PV$\n",
        "\n",
        "$PV = \\frac{FV}{(1 + \\frac{r}{m})^{mn}}$\n",
        "\n",
        "$r = (\\sqrt[mn]{\\frac{FV}{PV}} - 1)m$"
      ]
    },
    {
      "cell_type": "code",
      "execution_count": 11,
      "id": "altered-shooting",
      "metadata": {
        "execution": {
          "iopub.execute_input": "2021-11-18T15:43:14.702264Z",
          "iopub.status.busy": "2021-11-18T15:43:14.701655Z",
          "iopub.status.idle": "2021-11-18T15:43:14.705031Z",
          "shell.execute_reply": "2021-11-18T15:43:14.705577Z",
          "shell.execute_reply.started": "2021-11-18T14:37:42.255944Z"
        },
        "papermill": {
          "duration": 0.105966,
          "end_time": "2021-11-18T15:43:14.705741",
          "exception": false,
          "start_time": "2021-11-18T15:43:14.599775",
          "status": "completed"
        },
        "tags": [],
        "id": "altered-shooting"
      },
      "outputs": [],
      "source": [
        "m = 12 # Monthly compounding"
      ]
    },
    {
      "cell_type": "code",
      "execution_count": 12,
      "id": "composite-prerequisite",
      "metadata": {
        "execution": {
          "iopub.execute_input": "2021-11-18T15:43:14.913508Z",
          "iopub.status.busy": "2021-11-18T15:43:14.912822Z",
          "iopub.status.idle": "2021-11-18T15:43:14.915280Z",
          "shell.execute_reply": "2021-11-18T15:43:14.914764Z",
          "shell.execute_reply.started": "2021-11-18T14:37:42.270932Z"
        },
        "papermill": {
          "duration": 0.110068,
          "end_time": "2021-11-18T15:43:14.915424",
          "exception": false,
          "start_time": "2021-11-18T15:43:14.805356",
          "status": "completed"
        },
        "tags": [],
        "id": "composite-prerequisite"
      },
      "outputs": [],
      "source": [
        "def fv_interval(pv: float, r: float, n: int, m: int):\n",
        "    return ((1 + r / m)**(m * n)) * pv\n",
        "\n",
        "def pv_interval(fv: float, r: float, n: int, m: int):\n",
        "    return fv / (1+r/m)**(m*n)\n",
        "\n",
        "def r_interval(pv: float, fv: float, n: int, m: int):\n",
        "    return ((fv / pv)**(1/(m*n)) - 1)* m"
      ]
    },
    {
      "cell_type": "code",
      "execution_count": 13,
      "id": "closing-barcelona",
      "metadata": {
        "execution": {
          "iopub.execute_input": "2021-11-18T15:43:15.165948Z",
          "iopub.status.busy": "2021-11-18T15:43:15.165347Z",
          "iopub.status.idle": "2021-11-18T15:43:15.169877Z",
          "shell.execute_reply": "2021-11-18T15:43:15.170513Z",
          "shell.execute_reply.started": "2021-11-18T14:37:42.285328Z"
        },
        "papermill": {
          "duration": 0.154979,
          "end_time": "2021-11-18T15:43:15.170676",
          "exception": false,
          "start_time": "2021-11-18T15:43:15.015697",
          "status": "completed"
        },
        "tags": [],
        "colab": {
          "base_uri": "https://localhost:8080/"
        },
        "id": "closing-barcelona",
        "outputId": "e18d5aad-218c-46aa-d72d-dfec7236c257"
      },
      "outputs": [
        {
          "output_type": "execute_result",
          "data": {
            "text/plain": [
              "12119.383211406064"
            ]
          },
          "metadata": {},
          "execution_count": 13
        }
      ],
      "source": [
        "fv = fv_interval(starting_capital, r, n, m)\n",
        "fv"
      ]
    },
    {
      "cell_type": "code",
      "execution_count": 14,
      "id": "induced-ratio",
      "metadata": {
        "execution": {
          "iopub.execute_input": "2021-11-18T15:43:15.373143Z",
          "iopub.status.busy": "2021-11-18T15:43:15.372521Z",
          "iopub.status.idle": "2021-11-18T15:43:15.377257Z",
          "shell.execute_reply": "2021-11-18T15:43:15.377751Z",
          "shell.execute_reply.started": "2021-11-18T14:37:42.301507Z"
        },
        "papermill": {
          "duration": 0.107571,
          "end_time": "2021-11-18T15:43:15.377913",
          "exception": false,
          "start_time": "2021-11-18T15:43:15.270342",
          "status": "completed"
        },
        "tags": [],
        "colab": {
          "base_uri": "https://localhost:8080/"
        },
        "id": "induced-ratio",
        "outputId": "9f9cbe0b-dbe5-4191-bb8d-a4357e79dd9f"
      },
      "outputs": [
        {
          "output_type": "execute_result",
          "data": {
            "text/plain": [
              "1000.0000000000001"
            ]
          },
          "metadata": {},
          "execution_count": 14
        }
      ],
      "source": [
        "pv = pv_interval(fv, r, n, m)\n",
        "pv"
      ]
    },
    {
      "cell_type": "code",
      "execution_count": 15,
      "id": "classical-glass",
      "metadata": {
        "execution": {
          "iopub.execute_input": "2021-11-18T15:43:15.583901Z",
          "iopub.status.busy": "2021-11-18T15:43:15.581878Z",
          "iopub.status.idle": "2021-11-18T15:43:15.586910Z",
          "shell.execute_reply": "2021-11-18T15:43:15.587507Z",
          "shell.execute_reply.started": "2021-11-18T14:37:42.315543Z"
        },
        "papermill": {
          "duration": 0.10907,
          "end_time": "2021-11-18T15:43:15.587683",
          "exception": false,
          "start_time": "2021-11-18T15:43:15.478613",
          "status": "completed"
        },
        "tags": [],
        "colab": {
          "base_uri": "https://localhost:8080/"
        },
        "id": "classical-glass",
        "outputId": "6c3b6523-bc54-4860-dbd8-eba0a25d1fd5"
      },
      "outputs": [
        {
          "output_type": "execute_result",
          "data": {
            "text/plain": [
              "0.04999999999999982"
            ]
          },
          "metadata": {},
          "execution_count": 15
        }
      ],
      "source": [
        "r_interval(pv, fv, n, m)"
      ]
    },
    {
      "cell_type": "markdown",
      "id": "ethical-relations",
      "metadata": {
        "papermill": {
          "duration": 0.10337,
          "end_time": "2021-11-18T15:43:15.792156",
          "exception": false,
          "start_time": "2021-11-18T15:43:15.688786",
          "status": "completed"
        },
        "tags": [],
        "id": "ethical-relations"
      },
      "source": [
        "### Continuous Interest\n",
        "\n",
        "As $m$ goes to infinity ($\\underset{m \\to \\infty}{lim}$) we encounter the notion of \"continuous compounding\". While this notion sounds abstract, continuous compounding is an important concept for financial theory and models that treat financial time series as continuous."
      ]
    },
    {
      "cell_type": "markdown",
      "id": "structural-breakdown",
      "metadata": {
        "papermill": {
          "duration": 0.102583,
          "end_time": "2021-11-18T15:43:15.996159",
          "exception": false,
          "start_time": "2021-11-18T15:43:15.893576",
          "status": "completed"
        },
        "tags": [],
        "id": "structural-breakdown"
      },
      "source": [
        "$FV = e^{rn}PV$\n",
        "\n",
        "$PV = \\frac{FV}{e^{rn}}$\n",
        "\n",
        "$r = \\frac{ln(\\frac{FV}{PV})}{n}$"
      ]
    },
    {
      "cell_type": "code",
      "execution_count": 16,
      "id": "likely-manner",
      "metadata": {
        "execution": {
          "iopub.execute_input": "2021-11-18T15:43:16.202735Z",
          "iopub.status.busy": "2021-11-18T15:43:16.202041Z",
          "iopub.status.idle": "2021-11-18T15:43:16.207608Z",
          "shell.execute_reply": "2021-11-18T15:43:16.208188Z",
          "shell.execute_reply.started": "2021-11-18T14:37:42.33041Z"
        },
        "papermill": {
          "duration": 0.109779,
          "end_time": "2021-11-18T15:43:16.208358",
          "exception": false,
          "start_time": "2021-11-18T15:43:16.098579",
          "status": "completed"
        },
        "tags": [],
        "id": "likely-manner"
      },
      "outputs": [],
      "source": [
        "def fv_continuous(pv: float, r: float, n: int):\n",
        "    return np.exp(r * n) * pv\n",
        "\n",
        "def pv_continuous(fv: float, r: float, n: int):\n",
        "    return fv / np.exp(r * n)\n",
        "\n",
        "def r_continuous(pv: float, fv: float, n: int):\n",
        "    return np.log(fv/pv) / n"
      ]
    },
    {
      "cell_type": "code",
      "execution_count": 17,
      "id": "august-manchester",
      "metadata": {
        "execution": {
          "iopub.execute_input": "2021-11-18T15:43:16.415984Z",
          "iopub.status.busy": "2021-11-18T15:43:16.415341Z",
          "iopub.status.idle": "2021-11-18T15:43:16.419834Z",
          "shell.execute_reply": "2021-11-18T15:43:16.420461Z",
          "shell.execute_reply.started": "2021-11-18T14:37:42.34039Z"
        },
        "papermill": {
          "duration": 0.110855,
          "end_time": "2021-11-18T15:43:16.420628",
          "exception": false,
          "start_time": "2021-11-18T15:43:16.309773",
          "status": "completed"
        },
        "tags": [],
        "colab": {
          "base_uri": "https://localhost:8080/"
        },
        "id": "august-manchester",
        "outputId": "4a35a8c7-adf0-4d1a-af63-bf7a75e12e22"
      },
      "outputs": [
        {
          "output_type": "execute_result",
          "data": {
            "text/plain": [
              "12182.493960703474"
            ]
          },
          "metadata": {},
          "execution_count": 17
        }
      ],
      "source": [
        "fv = fv_continuous(starting_capital, r, n)\n",
        "fv"
      ]
    },
    {
      "cell_type": "code",
      "execution_count": 18,
      "id": "blond-mother",
      "metadata": {
        "execution": {
          "iopub.execute_input": "2021-11-18T15:43:16.630330Z",
          "iopub.status.busy": "2021-11-18T15:43:16.629715Z",
          "iopub.status.idle": "2021-11-18T15:43:16.635467Z",
          "shell.execute_reply": "2021-11-18T15:43:16.634999Z",
          "shell.execute_reply.started": "2021-11-18T14:37:42.353621Z"
        },
        "papermill": {
          "duration": 0.111107,
          "end_time": "2021-11-18T15:43:16.635609",
          "exception": false,
          "start_time": "2021-11-18T15:43:16.524502",
          "status": "completed"
        },
        "tags": [],
        "colab": {
          "base_uri": "https://localhost:8080/"
        },
        "id": "blond-mother",
        "outputId": "cec6171d-333b-464f-d79b-94f39de9ab15"
      },
      "outputs": [
        {
          "output_type": "execute_result",
          "data": {
            "text/plain": [
              "1000.0000000000001"
            ]
          },
          "metadata": {},
          "execution_count": 18
        }
      ],
      "source": [
        "pv = pv_continuous(fv, r, n)\n",
        "pv"
      ]
    },
    {
      "cell_type": "code",
      "execution_count": 19,
      "id": "extensive-heater",
      "metadata": {
        "execution": {
          "iopub.execute_input": "2021-11-18T15:43:16.845850Z",
          "iopub.status.busy": "2021-11-18T15:43:16.845061Z",
          "iopub.status.idle": "2021-11-18T15:43:16.848274Z",
          "shell.execute_reply": "2021-11-18T15:43:16.848847Z",
          "shell.execute_reply.started": "2021-11-18T14:37:42.366531Z"
        },
        "papermill": {
          "duration": 0.11207,
          "end_time": "2021-11-18T15:43:16.849035",
          "exception": false,
          "start_time": "2021-11-18T15:43:16.736965",
          "status": "completed"
        },
        "tags": [],
        "colab": {
          "base_uri": "https://localhost:8080/"
        },
        "id": "extensive-heater",
        "outputId": "d186cdcd-c204-4de9-dd6e-a9ef4bfd5319"
      },
      "outputs": [
        {
          "output_type": "execute_result",
          "data": {
            "text/plain": [
              "0.05"
            ]
          },
          "metadata": {},
          "execution_count": 19
        }
      ],
      "source": [
        "r_continuous(pv, fv, n)"
      ]
    },
    {
      "cell_type": "markdown",
      "id": "returning-christmas",
      "metadata": {
        "papermill": {
          "duration": 0.103391,
          "end_time": "2021-11-18T15:43:17.054507",
          "exception": false,
          "start_time": "2021-11-18T15:43:16.951116",
          "status": "completed"
        },
        "tags": [],
        "id": "returning-christmas"
      },
      "source": [
        "### Interest with periodic deposit\n",
        "\n",
        "In practical scenarios we periodically add money to our investment. This practice is also popularly known as [Dollar-Cost Averaging (DCA)](https://www.investopedia.com/terms/d/dollarcostaveraging.asp). We define $A$ as the amount we periodically add and augment our periodic interest equation to account for this."
      ]
    },
    {
      "cell_type": "markdown",
      "id": "increasing-pantyhose",
      "metadata": {
        "papermill": {
          "duration": 0.102548,
          "end_time": "2021-11-18T15:43:17.261411",
          "exception": false,
          "start_time": "2021-11-18T15:43:17.158863",
          "status": "completed"
        },
        "tags": [],
        "id": "increasing-pantyhose"
      },
      "source": [
        "$FV = \\frac{A}{r/m}((1 + \\frac{r}{m})^{mn} - 1)$\n",
        "\n",
        "$PV = \\frac{A}{r/m}(1 - \\frac{1}{(1+r/m)^{mn}})$"
      ]
    },
    {
      "cell_type": "code",
      "execution_count": 20,
      "id": "unlike-startup",
      "metadata": {
        "execution": {
          "iopub.execute_input": "2021-11-18T15:43:17.467553Z",
          "iopub.status.busy": "2021-11-18T15:43:17.466632Z",
          "iopub.status.idle": "2021-11-18T15:43:17.470879Z",
          "shell.execute_reply": "2021-11-18T15:43:17.470413Z",
          "shell.execute_reply.started": "2021-11-18T14:37:42.37988Z"
        },
        "papermill": {
          "duration": 0.108493,
          "end_time": "2021-11-18T15:43:17.471044",
          "exception": false,
          "start_time": "2021-11-18T15:43:17.362551",
          "status": "completed"
        },
        "tags": [],
        "id": "unlike-startup"
      },
      "outputs": [],
      "source": [
        "A = 100. # Monthly added deposit"
      ]
    },
    {
      "cell_type": "code",
      "execution_count": 21,
      "id": "refined-sleeping",
      "metadata": {
        "execution": {
          "iopub.execute_input": "2021-11-18T15:43:17.681332Z",
          "iopub.status.busy": "2021-11-18T15:43:17.680546Z",
          "iopub.status.idle": "2021-11-18T15:43:17.683491Z",
          "shell.execute_reply": "2021-11-18T15:43:17.682986Z",
          "shell.execute_reply.started": "2021-11-18T14:37:42.390337Z"
        },
        "papermill": {
          "duration": 0.110145,
          "end_time": "2021-11-18T15:43:17.683634",
          "exception": false,
          "start_time": "2021-11-18T15:43:17.573489",
          "status": "completed"
        },
        "tags": [],
        "id": "refined-sleeping"
      },
      "outputs": [],
      "source": [
        "def fv_with_deposit(r: float, n: int, m: int, a: float):\n",
        "    return (a / (r/m)) * ((1 + r/m)**(m*n) - 1)\n",
        "\n",
        "def pv_with_deposit(r: float, n: int, m: int, a: float):\n",
        "    return (a / (r/m)) * (1 - 1 / (1 + r / m)**(m*n))"
      ]
    },
    {
      "cell_type": "code",
      "execution_count": 22,
      "id": "younger-answer",
      "metadata": {
        "execution": {
          "iopub.execute_input": "2021-11-18T15:43:17.894608Z",
          "iopub.status.busy": "2021-11-18T15:43:17.893757Z",
          "iopub.status.idle": "2021-11-18T15:43:17.897043Z",
          "shell.execute_reply": "2021-11-18T15:43:17.897583Z",
          "shell.execute_reply.started": "2021-11-18T14:37:42.40207Z"
        },
        "papermill": {
          "duration": 0.110943,
          "end_time": "2021-11-18T15:43:17.897771",
          "exception": false,
          "start_time": "2021-11-18T15:43:17.786828",
          "status": "completed"
        },
        "tags": [],
        "colab": {
          "base_uri": "https://localhost:8080/"
        },
        "id": "younger-answer",
        "outputId": "809f5d56-04dc-4880-eb75-d8367ef2e16a"
      },
      "outputs": [
        {
          "output_type": "execute_result",
          "data": {
            "text/plain": [
              "266865.19707374554"
            ]
          },
          "metadata": {},
          "execution_count": 22
        }
      ],
      "source": [
        "fv = fv_with_deposit(r, n, m, A)\n",
        "fv"
      ]
    },
    {
      "cell_type": "code",
      "execution_count": 23,
      "id": "australian-shade",
      "metadata": {
        "execution": {
          "iopub.execute_input": "2021-11-18T15:43:18.106137Z",
          "iopub.status.busy": "2021-11-18T15:43:18.105087Z",
          "iopub.status.idle": "2021-11-18T15:43:18.110763Z",
          "shell.execute_reply": "2021-11-18T15:43:18.111252Z",
          "shell.execute_reply.started": "2021-11-18T14:37:42.418448Z"
        },
        "papermill": {
          "duration": 0.111308,
          "end_time": "2021-11-18T15:43:18.111417",
          "exception": false,
          "start_time": "2021-11-18T15:43:18.000109",
          "status": "completed"
        },
        "tags": [],
        "colab": {
          "base_uri": "https://localhost:8080/"
        },
        "id": "australian-shade",
        "outputId": "69aae2c0-0f93-4e18-af32-98c04f2f5b91"
      },
      "outputs": [
        {
          "output_type": "execute_result",
          "data": {
            "text/plain": [
              "22019.7012024991"
            ]
          },
          "metadata": {},
          "execution_count": 23
        }
      ],
      "source": [
        "pv_with_deposit(r, n, m, A)"
      ]
    },
    {
      "cell_type": "markdown",
      "id": "correct-reunion",
      "metadata": {
        "papermill": {
          "duration": 0.103449,
          "end_time": "2021-11-18T15:43:18.320608",
          "exception": false,
          "start_time": "2021-11-18T15:43:18.217159",
          "status": "completed"
        },
        "tags": [],
        "id": "correct-reunion"
      },
      "source": [
        "## Options"
      ]
    },
    {
      "cell_type": "markdown",
      "id": "aging-browse",
      "metadata": {
        "papermill": {
          "duration": 0.102154,
          "end_time": "2021-11-18T15:43:18.525606",
          "exception": false,
          "start_time": "2021-11-18T15:43:18.423452",
          "status": "completed"
        },
        "tags": [],
        "id": "aging-browse"
      },
      "source": [
        "An option is a financial derivative that gives you the right, but not the obligation, to buy some underlying asset like a stock.\n",
        "\n",
        "Derivatives are financial products that derive their value based on some underlying asset. Common parameters that are important for this valuation are:\n",
        "- Underlying asset price\n",
        "- Volatility of underlying asset (standard deviation)\n",
        "- Time until expiration of derivative\n",
        "- Strike price (A cut-off value for option that are introduced in the following sections)\n",
        "- Risk-free interest rate\n",
        "\n",
        "In this notebook we will analyze European options, which give the buyer the right to buy or sell a certain stock for a given price on a certain date. An option for buying is called a [Call option](https://www.investopedia.com/terms/c/calloption.asp). The right to sell is called a [Put option](https://www.investopedia.com/terms/p/putoption.asp). "
      ]
    },
    {
      "cell_type": "markdown",
      "id": "reduced-emergency",
      "metadata": {
        "papermill": {
          "duration": 0.108054,
          "end_time": "2021-11-18T15:43:18.736688",
          "exception": false,
          "start_time": "2021-11-18T15:43:18.628634",
          "status": "completed"
        },
        "tags": [],
        "id": "reduced-emergency"
      },
      "source": [
        "There are two popular ways to determine the price of an option:\n",
        "1. Binomial Lattice\n",
        "2. Black-Scholes\n",
        "\n",
        "The mathematics and calculation of Black-Scholes is more involved so we start with explaining how a binomial lattice works."
      ]
    },
    {
      "cell_type": "markdown",
      "id": "focal-hours",
      "metadata": {
        "papermill": {
          "duration": 0.103888,
          "end_time": "2021-11-18T15:43:18.946122",
          "exception": false,
          "start_time": "2021-11-18T15:43:18.842234",
          "status": "completed"
        },
        "tags": [],
        "id": "focal-hours"
      },
      "source": [
        "## Binomial Lattice (European Call option)"
      ]
    },
    {
      "cell_type": "markdown",
      "id": "split-great",
      "metadata": {
        "papermill": {
          "duration": 0.102186,
          "end_time": "2021-11-18T15:43:19.151140",
          "exception": false,
          "start_time": "2021-11-18T15:43:19.048954",
          "status": "completed"
        },
        "tags": [],
        "id": "split-great"
      },
      "source": [
        "The binomial lattice model simplifies pricing by assuming a stock either goes up or down a certain amount in a time-period. We assume the price of a stock follows a random path. Each node in the lattice will represent the possible stock price at a given point in time. We then recursively compute time-steps until we can compute the fair price of an option. Like with interest calculations, everything is discounted over time using a risk-free interest rate $r$.\n",
        "The price will mainly be based on $K$ (Strike price) and $S$ = (Stock price at start)"
      ]
    },
    {
      "cell_type": "markdown",
      "id": "julian-reach",
      "metadata": {
        "papermill": {
          "duration": 0.101831,
          "end_time": "2021-11-18T15:43:19.355548",
          "exception": false,
          "start_time": "2021-11-18T15:43:19.253717",
          "status": "completed"
        },
        "tags": [],
        "id": "julian-reach"
      },
      "source": [
        "We assume for each time-period a stock goes up or down a certain percentage. These movements are defined by $u$ (Up scenario) and $d$ (Down scenario), where $u > 1$ and $d < 1$. How far a stock can move will depend on the volatility $\\sigma$ and the time-period $\\Delta t$.\n",
        "\n",
        "$u = e^{\\sigma \\sqrt{\\Delta}t}$\n",
        "\n",
        "$d = e^{-\\sigma \\sqrt{\\Delta}t}$"
      ]
    },
    {
      "cell_type": "code",
      "execution_count": 24,
      "id": "wrong-cornell",
      "metadata": {
        "execution": {
          "iopub.execute_input": "2021-11-18T15:43:19.570381Z",
          "iopub.status.busy": "2021-11-18T15:43:19.569610Z",
          "iopub.status.idle": "2021-11-18T15:43:19.571564Z",
          "shell.execute_reply": "2021-11-18T15:43:19.572097Z",
          "shell.execute_reply.started": "2021-11-18T14:37:42.42985Z"
        },
        "papermill": {
          "duration": 0.114073,
          "end_time": "2021-11-18T15:43:19.572273",
          "exception": false,
          "start_time": "2021-11-18T15:43:19.458200",
          "status": "completed"
        },
        "tags": [],
        "id": "wrong-cornell"
      },
      "outputs": [],
      "source": [
        "var = 0.2 # Variance\n",
        "sigma = np.sqrt(var) # Standard deviation\n",
        "S = 44 # Stock price\n",
        "K = 45 # Strike price\n",
        "T = 2/12 # Time period (two months = two steps)\n",
        "r = 0.06 # Risk-free interest rate\n",
        "delta_t = 1/12 # time-steps of one month\n",
        "R = np.exp(r * delta_t) # Discounted interest\n",
        "\n",
        "u = np.exp(sigma*np.sqrt(delta_t)) # Up scenario\n",
        "d = np.exp(-sigma*np.sqrt(delta_t)) # Down scenario\n",
        "\n",
        "def price_binomial(R, Pu, Pd, u, d):\n",
        "    \"\"\" Compute option price for a step \"\"\"\n",
        "    q = (R-d)/(u-d)\n",
        "    return (1/R) * (q * Pu + (1-q)*Pd)"
      ]
    },
    {
      "cell_type": "markdown",
      "id": "fifth-april",
      "metadata": {
        "papermill": {
          "duration": 0.10341,
          "end_time": "2021-11-18T15:43:19.779271",
          "exception": false,
          "start_time": "2021-11-18T15:43:19.675861",
          "status": "completed"
        },
        "tags": [],
        "id": "fifth-april"
      },
      "source": [
        "### Two-step call option price"
      ]
    },
    {
      "cell_type": "markdown",
      "id": "national-modem",
      "metadata": {
        "papermill": {
          "duration": 0.104826,
          "end_time": "2021-11-18T15:43:19.987782",
          "exception": false,
          "start_time": "2021-11-18T15:43:19.882956",
          "status": "completed"
        },
        "tags": [],
        "id": "national-modem"
      },
      "source": [
        "As a simple example we compute the price of a call option based on two steps of one month. This requires us to start at the end of the tree and compute $C_{ud}$ (One up scenario and one down), $C_{uu}$ (Two times down) and $C_{dd}$ (Two times up). These are all the possible scenarios after two time steps. We then use the result to compute $C_u$ and $C_d$, which are all the scenarios after one step. After this we can finally calculate $C$, which denotes the fair price of an option given all possible scenarios. Note that this setup is very simple and does not reflect reality where many other scenarios can happen. Still, the Binomial lattice gives us a good indication on how much an option if worth. Professional option traders will run software with many more time-steps and run the calculations for various values of $u$ and $d$."
      ]
    },
    {
      "cell_type": "markdown",
      "id": "solid-ground",
      "metadata": {
        "papermill": {
          "duration": 0.107286,
          "end_time": "2021-11-18T15:43:20.203168",
          "exception": false,
          "start_time": "2021-11-18T15:43:20.095882",
          "status": "completed"
        },
        "tags": [],
        "id": "solid-ground"
      },
      "source": [
        "$C_{ud} = max\\{Sud - K, 0\\}$\n",
        "\n",
        "$C_{uu} = max\\{Su^2 - K, 0\\}$\n",
        "\n",
        "$C_{dd} = max\\{Sd^2 - K, 0\\}$"
      ]
    },
    {
      "cell_type": "code",
      "execution_count": 25,
      "id": "anonymous-transcription",
      "metadata": {
        "execution": {
          "iopub.execute_input": "2021-11-18T15:43:20.413916Z",
          "iopub.status.busy": "2021-11-18T15:43:20.413299Z",
          "iopub.status.idle": "2021-11-18T15:43:20.417935Z",
          "shell.execute_reply": "2021-11-18T15:43:20.418499Z",
          "shell.execute_reply.started": "2021-11-18T14:37:42.442041Z"
        },
        "papermill": {
          "duration": 0.110566,
          "end_time": "2021-11-18T15:43:20.418683",
          "exception": false,
          "start_time": "2021-11-18T15:43:20.308117",
          "status": "completed"
        },
        "tags": [],
        "id": "anonymous-transcription"
      },
      "outputs": [],
      "source": [
        "c_ud = np.maximum(0, u * d * S - K)\n",
        "c_uu = np.maximum(0, u**2 * S - K)\n",
        "c_dd = np.maximum(0, d**2 * S - K)"
      ]
    },
    {
      "cell_type": "markdown",
      "id": "naughty-colon",
      "metadata": {
        "papermill": {
          "duration": 0.105846,
          "end_time": "2021-11-18T15:43:20.629887",
          "exception": false,
          "start_time": "2021-11-18T15:43:20.524041",
          "status": "completed"
        },
        "tags": [],
        "id": "naughty-colon"
      },
      "source": [
        "$C_u = \\frac{1}{R}(q C_{uu} + (1-q)C_{ud})$\n",
        "\n",
        "$C_d = \\frac{1}{R}(q C_{ud} + (1-q)C_{dd})$\n",
        "\n",
        "$C = \\frac{1}{R}(q C_{u} + (1-q)C_{d})$\n",
        "\n",
        "\n",
        "where $q = \\frac{R - d}{u - d}$ and $R = e^{r \\Delta t}$."
      ]
    },
    {
      "cell_type": "code",
      "execution_count": 26,
      "id": "threaded-music",
      "metadata": {
        "execution": {
          "iopub.execute_input": "2021-11-18T15:43:20.843695Z",
          "iopub.status.busy": "2021-11-18T15:43:20.843095Z",
          "iopub.status.idle": "2021-11-18T15:43:20.848268Z",
          "shell.execute_reply": "2021-11-18T15:43:20.848823Z",
          "shell.execute_reply.started": "2021-11-18T15:04:54.478523Z"
        },
        "papermill": {
          "duration": 0.110812,
          "end_time": "2021-11-18T15:43:20.849071",
          "exception": false,
          "start_time": "2021-11-18T15:43:20.738259",
          "status": "completed"
        },
        "tags": [],
        "colab": {
          "base_uri": "https://localhost:8080/"
        },
        "id": "threaded-music",
        "outputId": "d6e4c41d-c0f0-454a-fadf-7c04a3b10c47"
      },
      "outputs": [
        {
          "output_type": "stream",
          "name": "stdout",
          "text": [
            "Option price for 1-step up scenario: 5.8\n"
          ]
        }
      ],
      "source": [
        "Cu = price_binomial(R, c_uu, c_ud, u, d)\n",
        "print(f\"Option price for 1-step up scenario: {Cu.round(2)}\")"
      ]
    },
    {
      "cell_type": "code",
      "execution_count": 27,
      "id": "convinced-habitat",
      "metadata": {
        "execution": {
          "iopub.execute_input": "2021-11-18T15:43:21.060156Z",
          "iopub.status.busy": "2021-11-18T15:43:21.059496Z",
          "iopub.status.idle": "2021-11-18T15:43:21.064287Z",
          "shell.execute_reply": "2021-11-18T15:43:21.064805Z",
          "shell.execute_reply.started": "2021-11-18T15:05:03.996387Z"
        },
        "papermill": {
          "duration": 0.11284,
          "end_time": "2021-11-18T15:43:21.065003",
          "exception": false,
          "start_time": "2021-11-18T15:43:20.952163",
          "status": "completed"
        },
        "tags": [],
        "colab": {
          "base_uri": "https://localhost:8080/"
        },
        "id": "convinced-habitat",
        "outputId": "33d508a5-8777-4e3b-baec-f4c60346a9d7"
      },
      "outputs": [
        {
          "output_type": "stream",
          "name": "stdout",
          "text": [
            "Option price for 1-step down scenario: 0.0\n"
          ]
        }
      ],
      "source": [
        "Cd = price_binomial(R, c_ud, c_dd, u, d)\n",
        "print(f\"Option price for 1-step down scenario: {Cd.round(2)}\")"
      ]
    },
    {
      "cell_type": "code",
      "execution_count": 28,
      "id": "under-huntington",
      "metadata": {
        "execution": {
          "iopub.execute_input": "2021-11-18T15:43:21.280338Z",
          "iopub.status.busy": "2021-11-18T15:43:21.279603Z",
          "iopub.status.idle": "2021-11-18T15:43:21.284988Z",
          "shell.execute_reply": "2021-11-18T15:43:21.285514Z",
          "shell.execute_reply.started": "2021-11-18T15:05:25.89734Z"
        },
        "papermill": {
          "duration": 0.11375,
          "end_time": "2021-11-18T15:43:21.285674",
          "exception": false,
          "start_time": "2021-11-18T15:43:21.171924",
          "status": "completed"
        },
        "tags": [],
        "colab": {
          "base_uri": "https://localhost:8080/"
        },
        "id": "under-huntington",
        "outputId": "f0c15de1-da3b-4270-c224-d0b842d5aecf"
      },
      "outputs": [
        {
          "output_type": "stream",
          "name": "stdout",
          "text": [
            "Fair option price given all scenario's: 2.81\n"
          ]
        }
      ],
      "source": [
        "C = price_binomial(R, Cu, Cd, u, d)\n",
        "print(f\"Fair option price given all scenario's: {C.round(2)}\")"
      ]
    },
    {
      "cell_type": "markdown",
      "id": "macro-chart",
      "metadata": {
        "papermill": {
          "duration": 0.103684,
          "end_time": "2021-11-18T15:43:21.494857",
          "exception": false,
          "start_time": "2021-11-18T15:43:21.391173",
          "status": "completed"
        },
        "tags": [],
        "id": "macro-chart"
      },
      "source": [
        "## Binomial Lattice plotting"
      ]
    },
    {
      "cell_type": "markdown",
      "id": "interesting-essex",
      "metadata": {
        "papermill": {
          "duration": 0.113021,
          "end_time": "2021-11-18T15:43:21.714060",
          "exception": false,
          "start_time": "2021-11-18T15:43:21.601039",
          "status": "completed"
        },
        "tags": [],
        "id": "interesting-essex"
      },
      "source": [
        "To get a clearer overview of the binomial lattice we can visualize the tree on which price calculation is based. It also allows us to analyze what returns are assumed for the up and down scenario after a time step."
      ]
    },
    {
      "cell_type": "code",
      "execution_count": 29,
      "id": "every-factory",
      "metadata": {
        "_kg_hide-input": true,
        "execution": {
          "iopub.execute_input": "2021-11-18T15:43:21.942859Z",
          "iopub.status.busy": "2021-11-18T15:43:21.942249Z",
          "iopub.status.idle": "2021-11-18T15:43:22.216027Z",
          "shell.execute_reply": "2021-11-18T15:43:22.215485Z",
          "shell.execute_reply.started": "2021-11-18T15:15:01.465376Z"
        },
        "papermill": {
          "duration": 0.38148,
          "end_time": "2021-11-18T15:43:22.216184",
          "exception": false,
          "start_time": "2021-11-18T15:43:21.834704",
          "status": "completed"
        },
        "tags": [],
        "colab": {
          "base_uri": "https://localhost:8080/",
          "height": 0
        },
        "id": "every-factory",
        "outputId": "c7b61ace-10e1-4478-e28e-cc09e7116635"
      },
      "outputs": [
        {
          "output_type": "display_data",
          "data": {
            "text/plain": [
              "<Figure size 1152x576 with 1 Axes>"
            ],
            "image/png": "[encoded data removed]"
          },
          "metadata": {
            "needs_background": "light"
          }
        }
      ],
      "source": [
        "fig = plt.figure(figsize=[16, 8])\n",
        "for i in range(2):\n",
        "    x = [1, 0, 1]\n",
        "    for j in range(i):\n",
        "        x.append(0)\n",
        "        x.append(1)\n",
        "    x = np.array(x) + i\n",
        "    y = np.arange(-(i+1), i+2)[::-1]\n",
        "    y = 100 * np.power(u, y)\n",
        "    plt.plot(x, y, 'bo-')\n",
        "    if i % 2 == 0:\n",
        "        for x_pos, y_value in zip(x,y):\n",
        "            plt.annotate(y_value.round(2), \n",
        "                         (x_pos, y_value), \n",
        "                         textcoords=\"offset points\",\n",
        "                         xytext=(0, 10), \n",
        "                         ha='center', fontsize=20)\n",
        "plt.xlabel('Time point t (months)', fontsize=20)\n",
        "plt.ylabel('Price (percentage from time t)', fontsize=20)\n",
        "plt.xticks([0, 1, 2], fontsize=16)\n",
        "plt.title('Two step Binomial lattice - European call option', fontsize=20, weight='bold')\n",
        "plt.tight_layout()"
      ]
    },
    {
      "cell_type": "markdown",
      "id": "seasonal-bachelor",
      "metadata": {
        "papermill": {
          "duration": 0.106413,
          "end_time": "2021-11-18T15:43:22.429248",
          "exception": false,
          "start_time": "2021-11-18T15:43:22.322835",
          "status": "completed"
        },
        "tags": [],
        "id": "seasonal-bachelor"
      },
      "source": [
        "## Black-Scholes"
      ]
    },
    {
      "cell_type": "markdown",
      "id": "external-reproduction",
      "metadata": {
        "papermill": {
          "duration": 0.10629,
          "end_time": "2021-11-18T15:43:22.641407",
          "exception": false,
          "start_time": "2021-11-18T15:43:22.535117",
          "status": "completed"
        },
        "tags": [],
        "id": "external-reproduction"
      },
      "source": [
        "Black-Scholes is a formula to derive the price of an option based on stochastic calculus. The derivation of the formula can be daunting, so we start first with learning how to apply the formula and express it as Python code.\n",
        "\n",
        "In 1969, [Edward Thorp](https://en.wikipedia.org/wiki/Edward_O._Thorp) discovered what came to be known as Black-Scholes and used it for his investing, but did not publish a paper on it. In 1973, [Fischer Black](https://en.wikipedia.org/wiki/Fischer_Black) and [Myron Scholes](https://en.wikipedia.org/wiki/Myron_Scholes) published their Black-Scholes model. In 1974 it was further formalized and worked out by [Robert C. Merton](https://en.wikipedia.org/wiki/Robert_C._Merton)."
      ]
    },
    {
      "cell_type": "markdown",
      "id": "recreational-foster",
      "metadata": {
        "papermill": {
          "duration": 0.108281,
          "end_time": "2021-11-18T15:43:22.857142",
          "exception": false,
          "start_time": "2021-11-18T15:43:22.748861",
          "status": "completed"
        },
        "tags": [],
        "id": "recreational-foster"
      },
      "source": [
        "![black_scholes](https://memegenerator.net/img/instances/35989759.jpg)"
      ]
    },
    {
      "cell_type": "markdown",
      "id": "rubber-month",
      "metadata": {
        "papermill": {
          "duration": 0.105219,
          "end_time": "2021-11-18T15:43:23.069612",
          "exception": false,
          "start_time": "2021-11-18T15:43:22.964393",
          "status": "completed"
        },
        "tags": [],
        "id": "rubber-month"
      },
      "source": [
        "$S_t$ = Stock price at time $t$, $K$ = Strike price of option, $T$ is time till expiration in years, $r$ = risk-free interest rate $\\sigma$ = standard deviation (i.e. volatility).\n",
        "\n",
        "$\\Phi$ denotes the Cumulative Density Function (CDF) of the standard normal distribution ($N(0, 1)$).\n",
        "\n",
        "\n",
        "$C(S_t, t) = \\Phi(d_1^{(t)})S_t - \\Phi(d_2^{(t)})Ke^{-rT}$\n",
        "\n",
        "$P(S_t, t) = \\Phi(-d_2^{(t)})Ke^{-rT} - \\Phi(-d_1^{(t)})S_t$\n",
        "\n",
        "where $d_1^{(t)} = \\frac{1}{\\sigma \\sqrt{T}}[ln(\\frac{S_t}{K}) + (r+\\frac{\\sigma^2}{2})T]$\n",
        "\n",
        "$d_2^{(t)} = d_1^{(t)} - \\sigma \\sqrt{T}$"
      ]
    },
    {
      "cell_type": "code",
      "execution_count": 30,
      "id": "valid-norfolk",
      "metadata": {
        "execution": {
          "iopub.execute_input": "2021-11-18T15:43:23.284648Z",
          "iopub.status.busy": "2021-11-18T15:43:23.283614Z",
          "iopub.status.idle": "2021-11-18T15:43:23.296040Z",
          "shell.execute_reply": "2021-11-18T15:43:23.296586Z",
          "shell.execute_reply.started": "2021-11-18T14:37:42.817686Z"
        },
        "papermill": {
          "duration": 0.121509,
          "end_time": "2021-11-18T15:43:23.296754",
          "exception": false,
          "start_time": "2021-11-18T15:43:23.175245",
          "status": "completed"
        },
        "tags": [],
        "id": "valid-norfolk"
      },
      "outputs": [],
      "source": [
        "class BlackScholes:\n",
        "    \"\"\" \n",
        "    Class to calculate (European) call and put option prices through the Black-Scholes formula \n",
        "    without dividends\n",
        "    \n",
        "    :param S: Price of underlying stock\n",
        "    :param K: Strike price\n",
        "    :param T: Time till expiration (in years)\n",
        "    :param r: Risk-free interest rate (0.05 indicates 5%)\n",
        "    :param sigma: Volatility (standard deviation) of stock (0.15 indicates 15%)\n",
        "    \"\"\"\n",
        "    @staticmethod\n",
        "    def _d1(S, K, T, r, sigma):\n",
        "        return (1 / (sigma * np.sqrt(T))) * (np.log(S/K) + (r + sigma**2 / 2) * T)\n",
        "    \n",
        "    def _d2(self, S, K, T, r, sigma):\n",
        "        return self._d1(S, K, T, r, sigma) - sigma * np.sqrt(T)\n",
        "    \n",
        "    def call_price(self, S, K, T, r, sigma):\n",
        "        \"\"\" Main method for calculating price of a call option \"\"\"\n",
        "        d1 = self._d1(S, K, T, r, sigma)\n",
        "        d2 = self._d2(S, K, T, r, sigma)\n",
        "        return norm.cdf(d1) * S - norm.cdf(d2) * K * np.exp(-r*T)\n",
        "    \n",
        "    def put_price(self, S, K, T, r, sigma):\n",
        "        \"\"\" Main method for calculating price of a put option \"\"\"\n",
        "        d1 = self._d1(S, K, T, r, sigma)\n",
        "        d2 = self._d2(S, K, T, r, sigma)\n",
        "        return norm.cdf(-d2) * K * np.exp(-r*T) - norm.cdf(-d1) * S\n",
        "    \n",
        "    def call_in_the_money(self, S, K, T, r, sigma):\n",
        "        \"\"\" \n",
        "        Calculate probability that call option will be in the money at\n",
        "        maturity according to Black-Scholes.\n",
        "        \"\"\"\n",
        "        d2 = self._d2(S, K, T, r, sigma)\n",
        "        return norm.cdf(d2)\n",
        "    \n",
        "    def put_in_the_money(self, S, K, T, r, sigma):\n",
        "        \"\"\" \n",
        "        Calculate probability that put option will be in the money at\n",
        "        maturity according to Black-Scholes.\n",
        "        \"\"\"\n",
        "        d2 = self._d2(S, K, T, r, sigma)\n",
        "        return 1 - norm.cdf(d2)"
      ]
    },
    {
      "cell_type": "code",
      "execution_count": 31,
      "id": "passing-rachel",
      "metadata": {
        "execution": {
          "iopub.execute_input": "2021-11-18T15:43:23.511198Z",
          "iopub.status.busy": "2021-11-18T15:43:23.510213Z",
          "iopub.status.idle": "2021-11-18T15:43:23.515020Z",
          "shell.execute_reply": "2021-11-18T15:43:23.515563Z",
          "shell.execute_reply.started": "2021-11-18T14:37:42.833282Z"
        },
        "papermill": {
          "duration": 0.114002,
          "end_time": "2021-11-18T15:43:23.515727",
          "exception": false,
          "start_time": "2021-11-18T15:43:23.401725",
          "status": "completed"
        },
        "tags": [],
        "id": "passing-rachel"
      },
      "outputs": [],
      "source": [
        "S = 44 # Stock price\n",
        "K = 45 # Strike price\n",
        "T = 2/12 # Time till expiration (in years)\n",
        "r = 0.06 # Risk-free interest rate\n",
        "sigma = np.sqrt(0.2) # Volatility (standard deviation)"
      ]
    },
    {
      "cell_type": "code",
      "execution_count": 32,
      "id": "employed-brighton",
      "metadata": {
        "execution": {
          "iopub.execute_input": "2021-11-18T15:43:23.738403Z",
          "iopub.status.busy": "2021-11-18T15:43:23.737477Z",
          "iopub.status.idle": "2021-11-18T15:43:23.740924Z",
          "shell.execute_reply": "2021-11-18T15:43:23.741534Z",
          "shell.execute_reply.started": "2021-11-18T14:37:42.851237Z"
        },
        "papermill": {
          "duration": 0.117434,
          "end_time": "2021-11-18T15:43:23.741699",
          "exception": false,
          "start_time": "2021-11-18T15:43:23.624265",
          "status": "completed"
        },
        "tags": [],
        "colab": {
          "base_uri": "https://localhost:8080/"
        },
        "id": "employed-brighton",
        "outputId": "613a0bb4-8c8a-479e-9385-dae77d1e3b58"
      },
      "outputs": [
        {
          "output_type": "execute_result",
          "data": {
            "text/plain": [
              "2.9518170207100383"
            ]
          },
          "metadata": {},
          "execution_count": 32
        }
      ],
      "source": [
        "BlackScholes().call_price(S, K, T, r, sigma)"
      ]
    },
    {
      "cell_type": "code",
      "execution_count": 33,
      "id": "novel-murray",
      "metadata": {
        "execution": {
          "iopub.execute_input": "2021-11-18T15:43:23.960490Z",
          "iopub.status.busy": "2021-11-18T15:43:23.959485Z",
          "iopub.status.idle": "2021-11-18T15:43:23.966390Z",
          "shell.execute_reply": "2021-11-18T15:43:23.966839Z",
          "shell.execute_reply.started": "2021-11-18T14:37:42.867799Z"
        },
        "papermill": {
          "duration": 0.11762,
          "end_time": "2021-11-18T15:43:23.967038",
          "exception": false,
          "start_time": "2021-11-18T15:43:23.849418",
          "status": "completed"
        },
        "tags": [],
        "colab": {
          "base_uri": "https://localhost:8080/"
        },
        "id": "novel-murray",
        "outputId": "23d16255-5cc2-4679-c797-e660df18139c"
      },
      "outputs": [
        {
          "output_type": "execute_result",
          "data": {
            "text/plain": [
              "3.5040595394226024"
            ]
          },
          "metadata": {},
          "execution_count": 33
        }
      ],
      "source": [
        "BlackScholes().put_price(S, K, T, r, sigma)"
      ]
    },
    {
      "cell_type": "markdown",
      "id": "abroad-engine",
      "metadata": {
        "papermill": {
          "duration": 0.105895,
          "end_time": "2021-11-18T15:43:24.178698",
          "exception": false,
          "start_time": "2021-11-18T15:43:24.072803",
          "status": "completed"
        },
        "tags": [],
        "id": "abroad-engine"
      },
      "source": [
        "### Probability of option ending in the money"
      ]
    },
    {
      "cell_type": "markdown",
      "id": "bronze-lincoln",
      "metadata": {
        "papermill": {
          "duration": 0.105086,
          "end_time": "2021-11-18T15:43:24.389311",
          "exception": false,
          "start_time": "2021-11-18T15:43:24.284225",
          "status": "completed"
        },
        "tags": [],
        "id": "bronze-lincoln"
      },
      "source": [
        "We will show how you can use Black-Scholes to compute the theoretical probability of an option ending in the money. In the money means the option has a value at expiration. For a call option this means that the underlying stock price $S$ is higher than the strike price $K$ at experition. For a put option the stock price must be lower than the strike price. Note that this measure is solely dependent on the CDF of the Standard Normal distribution $N(0, 1)$."
      ]
    },
    {
      "cell_type": "markdown",
      "id": "framed-conflict",
      "metadata": {
        "papermill": {
          "duration": 0.106173,
          "end_time": "2021-11-18T15:43:24.600844",
          "exception": false,
          "start_time": "2021-11-18T15:43:24.494671",
          "status": "completed"
        },
        "tags": [],
        "id": "framed-conflict"
      },
      "source": [
        "Probability call is in the money = $\\Phi(d_2^{(t)})$"
      ]
    },
    {
      "cell_type": "code",
      "execution_count": 34,
      "id": "coordinate-cliff",
      "metadata": {
        "execution": {
          "iopub.execute_input": "2021-11-18T15:43:24.814344Z",
          "iopub.status.busy": "2021-11-18T15:43:24.813705Z",
          "iopub.status.idle": "2021-11-18T15:43:24.819395Z",
          "shell.execute_reply": "2021-11-18T15:43:24.819874Z",
          "shell.execute_reply.started": "2021-11-18T14:37:42.877918Z"
        },
        "papermill": {
          "duration": 0.114037,
          "end_time": "2021-11-18T15:43:24.820070",
          "exception": false,
          "start_time": "2021-11-18T15:43:24.706033",
          "status": "completed"
        },
        "tags": [],
        "colab": {
          "base_uri": "https://localhost:8080/"
        },
        "id": "coordinate-cliff",
        "outputId": "038c4762-9ec0-48ea-b090-df72497365f1"
      },
      "outputs": [
        {
          "output_type": "execute_result",
          "data": {
            "text/plain": [
              "0.43659661712317027"
            ]
          },
          "metadata": {},
          "execution_count": 34
        }
      ],
      "source": [
        "BlackScholes().call_in_the_money(S, K, T, r, sigma)"
      ]
    },
    {
      "cell_type": "markdown",
      "id": "taken-petroleum",
      "metadata": {
        "papermill": {
          "duration": 0.106402,
          "end_time": "2021-11-18T15:43:25.032642",
          "exception": false,
          "start_time": "2021-11-18T15:43:24.926240",
          "status": "completed"
        },
        "tags": [],
        "id": "taken-petroleum"
      },
      "source": [
        "Probability put is in the money = $1 - \\Phi(d_2^{(t)})$"
      ]
    },
    {
      "cell_type": "code",
      "execution_count": 35,
      "id": "initial-buffalo",
      "metadata": {
        "execution": {
          "iopub.execute_input": "2021-11-18T15:43:25.247722Z",
          "iopub.status.busy": "2021-11-18T15:43:25.247085Z",
          "iopub.status.idle": "2021-11-18T15:43:25.252212Z",
          "shell.execute_reply": "2021-11-18T15:43:25.252676Z",
          "shell.execute_reply.started": "2021-11-18T14:37:42.889477Z"
        },
        "papermill": {
          "duration": 0.114336,
          "end_time": "2021-11-18T15:43:25.252832",
          "exception": false,
          "start_time": "2021-11-18T15:43:25.138496",
          "status": "completed"
        },
        "tags": [],
        "colab": {
          "base_uri": "https://localhost:8080/"
        },
        "id": "initial-buffalo",
        "outputId": "bb47b1d0-7b16-4f6b-dfa4-e3409855902e"
      },
      "outputs": [
        {
          "output_type": "execute_result",
          "data": {
            "text/plain": [
              "0.5634033828768297"
            ]
          },
          "metadata": {},
          "execution_count": 35
        }
      ],
      "source": [
        "BlackScholes().put_in_the_money(S, K, T, r, sigma)"
      ]
    },
    {
      "cell_type": "markdown",
      "id": "cleared-migration",
      "metadata": {
        "papermill": {
          "duration": 0.106029,
          "end_time": "2021-11-18T15:43:25.464710",
          "exception": false,
          "start_time": "2021-11-18T15:43:25.358681",
          "status": "completed"
        },
        "tags": [],
        "id": "cleared-migration"
      },
      "source": [
        "## Implied volatility"
      ]
    },
    {
      "cell_type": "markdown",
      "id": "amended-poland",
      "metadata": {
        "papermill": {
          "duration": 0.107211,
          "end_time": "2021-11-18T15:43:25.677968",
          "exception": false,
          "start_time": "2021-11-18T15:43:25.570757",
          "status": "completed"
        },
        "tags": [],
        "id": "amended-poland"
      },
      "source": [
        "![](https://i.imgflip.com/242qz3.jpg)"
      ]
    },
    {
      "cell_type": "markdown",
      "id": "accessible-status",
      "metadata": {
        "papermill": {
          "duration": 0.105195,
          "end_time": "2021-11-18T15:43:25.888634",
          "exception": false,
          "start_time": "2021-11-18T15:43:25.783439",
          "status": "completed"
        },
        "tags": [],
        "id": "accessible-status"
      },
      "source": [
        "The $\\sigma$ for option pricing can be a hard parameter to determine. Taking the standard deviation over a stock price time-series likely does not work well, since it may have gone through changes that made it less or more volatile over time. Taking a short period like a week also is limited since it can grossly underestimate or overestimate future volatility. Maybe we do not even have enough data of the stock price to get a sense of its volatility. \n",
        "\n",
        "As a solution we can calculate something called \"implied volatility\". This is the volatility that is implied by the prices of options currently on the market. In other words, implied volatility is what the market expects the volatility to be as expressed in option prices. This seems like a circular argument, but works remarkably well in practice. One of the most popular implied volatility measures is the [VIX](https://en.wikipedia.org/wiki/VIX), which denotes the implied volatility based on [S&P500](https://en.wikipedia.org/wiki/S%26P_500) index options and is also known as the \"fear index\", because it spikes in times of stock market panics and uncertainty.\n",
        "\n",
        "![](https://upload.wikimedia.org/wikipedia/commons/5/51/CBOE_Volatlity_Index%2C_VIX.png)\n",
        "_Figure: VIX index from 2004 to 2020._\n",
        "\n",
        "To calculate the implied volatility we compute the Black-Scholes value for several values of $sigma$ and return the value that is closest to the market price that is also given. The implied volatility can be calculated to an artbitrary number of decimals, but here we calculate it up to 2 decimals."
      ]
    },
    {
      "cell_type": "code",
      "execution_count": 36,
      "id": "established-adrian",
      "metadata": {
        "execution": {
          "iopub.execute_input": "2021-11-18T15:43:26.105697Z",
          "iopub.status.busy": "2021-11-18T15:43:26.105077Z",
          "iopub.status.idle": "2021-11-18T15:43:26.112670Z",
          "shell.execute_reply": "2021-11-18T15:43:26.113228Z",
          "shell.execute_reply.started": "2021-11-18T14:37:42.901283Z"
        },
        "papermill": {
          "duration": 0.117456,
          "end_time": "2021-11-18T15:43:26.113411",
          "exception": false,
          "start_time": "2021-11-18T15:43:25.995955",
          "status": "completed"
        },
        "tags": [],
        "id": "established-adrian"
      },
      "outputs": [],
      "source": [
        "def call_implied_volatility(price, S, K, T, r):\n",
        "    \"\"\" Calculate implied volatility of a call option up to 2 decimals of precision. \"\"\"\n",
        "    sigma = 0.0001\n",
        "    while sigma < 1:\n",
        "        d1 = BlackScholes()._d1(S, K, T, r, sigma)\n",
        "        d2 = BlackScholes()._d2(S, K, T, r, sigma)\n",
        "        price_implied = S * norm.cdf(d1) - K * np.exp(-r*T) * norm.cdf(d2)\n",
        "        if price - price_implied < 0.0001:\n",
        "            return sigma\n",
        "        sigma += 0.0001\n",
        "    return \"Not Found\"\n",
        "\n",
        "def put_implied_volatility(price, S, K, T, r):\n",
        "    \"\"\" Calculate implied volatility of a put option up to 2 decimals of precision. \"\"\"\n",
        "    sigma = 0.0001\n",
        "    while sigma < 1:\n",
        "        call = BlackScholes().call_price(S, K, T, r, sigma)\n",
        "        price_implied = K * np.exp(-r*T) - S + call\n",
        "        if price - price_implied < 0.0001:\n",
        "            return sigma\n",
        "        sigma += 0.0001\n",
        "    return \"Not Found\""
      ]
    },
    {
      "cell_type": "code",
      "execution_count": 37,
      "id": "hollow-hollow",
      "metadata": {
        "execution": {
          "iopub.execute_input": "2021-11-18T15:43:26.330437Z",
          "iopub.status.busy": "2021-11-18T15:43:26.329789Z",
          "iopub.status.idle": "2021-11-18T15:43:26.333685Z",
          "shell.execute_reply": "2021-11-18T15:43:26.334163Z",
          "shell.execute_reply.started": "2021-11-18T14:37:42.913851Z"
        },
        "papermill": {
          "duration": 0.113821,
          "end_time": "2021-11-18T15:43:26.334334",
          "exception": false,
          "start_time": "2021-11-18T15:43:26.220513",
          "status": "completed"
        },
        "tags": [],
        "id": "hollow-hollow"
      },
      "outputs": [],
      "source": [
        "S = 36 # Stock price\n",
        "K = 35 # Strike price\n",
        "T = 2/12 # Time till expiration (in years)\n",
        "r = 0.05 # Risk-free interest rate\n",
        "option_price = 1.5 # Price of the option that is offered in the market"
      ]
    },
    {
      "cell_type": "code",
      "execution_count": 38,
      "id": "extra-juvenile",
      "metadata": {
        "execution": {
          "iopub.execute_input": "2021-11-18T15:43:26.551134Z",
          "iopub.status.busy": "2021-11-18T15:43:26.550488Z",
          "iopub.status.idle": "2021-11-18T15:43:27.793410Z",
          "shell.execute_reply": "2021-11-18T15:43:27.792760Z",
          "shell.execute_reply.started": "2021-11-18T14:37:42.924957Z"
        },
        "papermill": {
          "duration": 1.35253,
          "end_time": "2021-11-18T15:43:27.793560",
          "exception": false,
          "start_time": "2021-11-18T15:43:26.441030",
          "status": "completed"
        },
        "tags": [],
        "colab": {
          "base_uri": "https://localhost:8080/"
        },
        "id": "extra-juvenile",
        "outputId": "7e975083-8a5f-4cf6-f7e7-d4f4611d871a"
      },
      "outputs": [
        {
          "output_type": "stream",
          "name": "stdout",
          "text": [
            "Implied volatility for call option = 11.55%\n",
            "Implied volatility for put option = 36.2%\n"
          ]
        }
      ],
      "source": [
        "call_imp_vol = call_implied_volatility(option_price, S, K, T, r)\n",
        "put_imp_vol = put_implied_volatility(option_price, S, K, T, r)\n",
        "\n",
        "print(f\"Implied volatility for call option = {round(call_imp_vol*100, 3)}%\")\n",
        "print(f\"Implied volatility for put option = {round(put_imp_vol*100, 3)}%\")"
      ]
    },
    {
      "cell_type": "markdown",
      "id": "august-stewart",
      "metadata": {
        "papermill": {
          "duration": 0.108757,
          "end_time": "2021-11-18T15:43:28.008839",
          "exception": false,
          "start_time": "2021-11-18T15:43:27.900082",
          "status": "completed"
        },
        "tags": [],
        "id": "august-stewart"
      },
      "source": [
        "## Trading strategies"
      ]
    },
    {
      "cell_type": "markdown",
      "id": "gorgeous-security",
      "metadata": {
        "papermill": {
          "duration": 0.106715,
          "end_time": "2021-11-18T15:43:28.223760",
          "exception": false,
          "start_time": "2021-11-18T15:43:28.117045",
          "status": "completed"
        },
        "tags": [],
        "id": "gorgeous-security"
      },
      "source": [
        "Option trading strategies often involve buying and selling options with different strike prices and/or maturities. Among other things, this allows the investor to bet on the volatility of the underlying asset instead of the direction. Some of the most well-known option strategies are the Straddle, Strangle, Butterfly and Iron Condor."
      ]
    },
    {
      "cell_type": "markdown",
      "id": "chronic-bradley",
      "metadata": {
        "papermill": {
          "duration": 0.121549,
          "end_time": "2021-11-18T15:43:28.452950",
          "exception": false,
          "start_time": "2021-11-18T15:43:28.331401",
          "status": "completed"
        },
        "tags": [],
        "id": "chronic-bradley"
      },
      "source": [
        "**Straddle**\n",
        "\n",
        "In a straddle an investor holds a position in both a call option and a put option with the same strike price and expiration date. This allows the investor to profit from volatility regardless of the direction of the underlying asset.\n",
        "\n",
        "Short Straddle = $-P(K) - C(K)$\n",
        "\n",
        "Long Straddle = $P(K) + C(K)$\n",
        "\n",
        "\n",
        "**Strangle**\n",
        "\n",
        "The strangle is similar to a straddle, but now the call and put option have different strike prices. Again they have the same expiration date. This strategy can be profitable if you have a strong conviction that the underlying asset will have a large movement, but don't want to bet on a particular direction. For the formula's and code we assume that the first strike price is smaller than the second ($K1 < K2$).\n",
        "\n",
        "\n",
        "\n",
        "Short Strangle = $-P(K_1) - C(K_2)$\n",
        "\n",
        "Long Strangle = $P(K_1) + C(K_2)$\n",
        "\n",
        "\n",
        "**Butterfly**\n",
        "\n",
        "A butterfly is an option strategy where we have a high probability of making a profit while once again not betting on a particular direction. We implement this strategy when we think the future volatility of the underlying asset\n",
        "is going to be lower or higher than the implied volatility when long or short respectively. It involves three different strike prices were we assume $K_1 < K_2 < K_3$. Almost always, we also want the option position to be symmetric so this requires that $K_2 - K_1 = K_3 - K_2$.\n",
        "\n",
        "Short put butterfly = $-P(K_1) + 2*P(K_2) - P(K_3)$\n",
        "\n",
        "Long call butterfly = $C(K_1) - 2*C(K_2) + C(K_3)$\n",
        "\n",
        "**Iron condor**\n",
        "\n",
        "The iron condor makes use of four different strike prices and can be seen as a strangle variant of the butterfly strategy. We assume that $K_1 < K_2 < K_3 < K_4$ and for symmetry to hold we require that $K_4 - K_3 = K_2 - K_1$\n",
        "\n",
        "Long iron condor = $P(K_1) - P(K_2) - C(K_3) + C(K_4)$\n",
        "\n",
        "Short iron condor = $-P(K_1) + P(K_2) + C(K_3) - C(K_4)$\n",
        "\n"
      ]
    },
    {
      "cell_type": "code",
      "execution_count": 39,
      "id": "general-triangle",
      "metadata": {
        "execution": {
          "iopub.execute_input": "2021-11-18T15:43:28.687130Z",
          "iopub.status.busy": "2021-11-18T15:43:28.686478Z",
          "iopub.status.idle": "2021-11-18T15:43:28.705159Z",
          "shell.execute_reply": "2021-11-18T15:43:28.705642Z",
          "shell.execute_reply.started": "2021-11-18T14:37:44.333766Z"
        },
        "papermill": {
          "duration": 0.133183,
          "end_time": "2021-11-18T15:43:28.705836",
          "exception": false,
          "start_time": "2021-11-18T15:43:28.572653",
          "status": "completed"
        },
        "tags": [],
        "id": "general-triangle"
      },
      "outputs": [],
      "source": [
        "class OptionStrategies:\n",
        "    @staticmethod\n",
        "    def short_straddle(S, K, T, r, sigma):\n",
        "        call = BlackScholes().call_price(S, K, T, r, sigma)\n",
        "        put = BlackScholes().put_price(S, K, T, r, sigma)\n",
        "        return - put - call\n",
        "    \n",
        "    @staticmethod\n",
        "    def long_straddle(S, K, T, r, sigma):\n",
        "        call = BlackScholes().call_price(S, K, T, r, sigma)\n",
        "        put = BlackScholes().put_price(S, K, T, r, sigma)\n",
        "        return put + call\n",
        "    \n",
        "    @staticmethod\n",
        "    def short_strangle(S, K1, K2, T, r, sigma):\n",
        "        assert K1 < K2, f\"Please make sure that K1 < K2. Now K1={K1}, K2={K2}\"\n",
        "        put = BlackScholes().put_price(S, K1, T, r, sigma)\n",
        "        call = BlackScholes().call_price(S, K2, T, r, sigma)\n",
        "        return - put - call\n",
        "    \n",
        "    @staticmethod\n",
        "    def long_strangle(S, K1, K2, T, r, sigma):\n",
        "        assert K1 < K2, f\"Please make sure that K1 < K2. Now K1={K1}, K2={K2}\"\n",
        "        put = BlackScholes().put_price(S, K1, T, r, sigma)\n",
        "        call = BlackScholes().call_price(S, K2, T, r, sigma)\n",
        "        return put + call\n",
        "    \n",
        "    @staticmethod\n",
        "    def short_put_butterfly(S, K1, K2, K3, T, r, sigma):\n",
        "        assert K1 < K2 < K3, f\"Please make sure that K1 < K2 < K3. Now K1={K1}, K2={K2}, K3={K3}\"\n",
        "        put1 = BlackScholes().put_price(S, K1, T, r, sigma)\n",
        "        put2 = BlackScholes().put_price(S, K2, T, r, sigma)\n",
        "        put3 = BlackScholes().put_price(S, K3, T, r, sigma)\n",
        "        return - put1 + 2 * put2 - put3\n",
        "    \n",
        "    @staticmethod\n",
        "    def long_call_butterfly(S, K1, K2, K3, T, r, sigma):\n",
        "        assert K1 < K2 < K3, f\"Please make sure that K1 < K2 < K3. Now K1={K1}, K2={K2}, K3={K3}\"\n",
        "        call1 = BlackScholes().call_price(S, K1, T, r, sigma)\n",
        "        call2 = BlackScholes().call_price(S, K2, T, r, sigma)\n",
        "        call3 = BlackScholes().call_price(S, K3, T, r, sigma)\n",
        "        return call1 - 2 * call2 + call3\n",
        "    \n",
        "    @staticmethod\n",
        "    def short_iron_condor(S, K1, K2, K3, K4, T, r, sigma):\n",
        "        assert K1 < K2 < K3 < K4, f\"Please make sure that K1 < K2 < K3 < K4. Now K1={K1}, K2={K2}, K3={K3}, K4={K4}\"\n",
        "        put1 = BlackScholes().put_price(S, K1, T, r, sigma)\n",
        "        put2 = BlackScholes().put_price(S, K2, T, r, sigma)\n",
        "        call1 = BlackScholes().call_price(S, K3, T, r, sigma)\n",
        "        call2 = BlackScholes().call_price(S, K4, T, r, sigma)\n",
        "        return put1 - put2 - call1 + call2\n",
        "    \n",
        "    @staticmethod\n",
        "    def long_iron_condor(S, K1, K2, K3, K4, T, r, sigma):\n",
        "        assert K1 < K2 < K3 < K4, f\"Please make sure that K1 < K2 < K3 < K4. Now K1={K1}, K2={K2}, K3={K3}, K4={K4}\"\n",
        "        put1 = BlackScholes().put_price(S, K1, T, r, sigma)\n",
        "        put2 = BlackScholes().put_price(S, K2, T, r, sigma)\n",
        "        call1 = BlackScholes().call_price(S, K3, T, r, sigma)\n",
        "        call2 = BlackScholes().call_price(S, K4, T, r, sigma)\n",
        "        return - put1 + put2 + call1 - call2"
      ]
    },
    {
      "cell_type": "markdown",
      "id": "figured-scroll",
      "metadata": {
        "papermill": {
          "duration": 0.107365,
          "end_time": "2021-11-18T15:43:28.922365",
          "exception": false,
          "start_time": "2021-11-18T15:43:28.815000",
          "status": "completed"
        },
        "tags": [],
        "id": "figured-scroll"
      },
      "source": [
        "### Payoff function visualizations for trading strategies"
      ]
    },
    {
      "cell_type": "markdown",
      "id": "sudden-basic",
      "metadata": {
        "papermill": {
          "duration": 0.106387,
          "end_time": "2021-11-18T15:43:29.135783",
          "exception": false,
          "start_time": "2021-11-18T15:43:29.029396",
          "status": "completed"
        },
        "tags": [],
        "id": "sudden-basic"
      },
      "source": [
        "By iterating over a range of outcomes we can visualize the payoff for these option strategies in different scenarios."
      ]
    },
    {
      "cell_type": "code",
      "execution_count": 40,
      "id": "honest-victim",
      "metadata": {
        "execution": {
          "iopub.execute_input": "2021-11-18T15:43:29.355640Z",
          "iopub.status.busy": "2021-11-18T15:43:29.354899Z",
          "iopub.status.idle": "2021-11-18T15:43:29.358778Z",
          "shell.execute_reply": "2021-11-18T15:43:29.359318Z",
          "shell.execute_reply.started": "2021-11-18T14:37:44.355466Z"
        },
        "papermill": {
          "duration": 0.116154,
          "end_time": "2021-11-18T15:43:29.359494",
          "exception": false,
          "start_time": "2021-11-18T15:43:29.243340",
          "status": "completed"
        },
        "tags": [],
        "id": "honest-victim"
      },
      "outputs": [],
      "source": [
        "T = 2/12 # Time till expiration (in years)\n",
        "r = 0.05 # Risk-free interest rate\n",
        "sigma = np.sqrt(1/68) # Volatility (standard deviation)\n",
        "end_prices = np.arange(5, 65, 1) # Possible scenarios for underlying stock price at expiration."
      ]
    },
    {
      "cell_type": "markdown",
      "id": "mechanical-tractor",
      "metadata": {
        "papermill": {
          "duration": 0.107039,
          "end_time": "2021-11-18T15:43:29.575407",
          "exception": false,
          "start_time": "2021-11-18T15:43:29.468368",
          "status": "completed"
        },
        "tags": [],
        "id": "mechanical-tractor"
      },
      "source": [
        "### Straddle"
      ]
    },
    {
      "cell_type": "code",
      "execution_count": 41,
      "id": "leading-winning",
      "metadata": {
        "execution": {
          "iopub.execute_input": "2021-11-18T15:43:29.793544Z",
          "iopub.status.busy": "2021-11-18T15:43:29.792589Z",
          "iopub.status.idle": "2021-11-18T15:43:29.979246Z",
          "shell.execute_reply": "2021-11-18T15:43:29.979784Z",
          "shell.execute_reply.started": "2021-11-18T14:37:44.372025Z"
        },
        "papermill": {
          "duration": 0.296629,
          "end_time": "2021-11-18T15:43:29.979953",
          "exception": false,
          "start_time": "2021-11-18T15:43:29.683324",
          "status": "completed"
        },
        "tags": [],
        "colab": {
          "base_uri": "https://localhost:8080/",
          "height": 0
        },
        "id": "leading-winning",
        "outputId": "1cec9edd-9b55-4be8-858b-c254c9c6f782"
      },
      "outputs": [
        {
          "output_type": "display_data",
          "data": {
            "text/plain": [
              "<Figure size 432x288 with 1 Axes>"
            ],
            "image/png": "[encoded data removed]"
          },
          "metadata": {
            "needs_background": "light"
          }
        }
      ],
      "source": [
        "K1 = 35 # Strike price\n",
        "straddle_payoffs = [OptionStrategies.long_straddle(S, K1, T, r, sigma) for S in end_prices]\n",
        "plt.plot(end_prices, straddle_payoffs)\n",
        "plt.xlabel('End Stock prices S')\n",
        "plt.ylabel('Payoff')\n",
        "plt.title(f'T={round(T, 2)}, r={r}, sigma={round(sigma, 4)}')\n",
        "plt.suptitle('Payoff function Black-Scholes using long straddle', weight='bold', fontsize=12);"
      ]
    },
    {
      "cell_type": "markdown",
      "id": "previous-savannah",
      "metadata": {
        "papermill": {
          "duration": 0.107784,
          "end_time": "2021-11-18T15:43:30.195929",
          "exception": false,
          "start_time": "2021-11-18T15:43:30.088145",
          "status": "completed"
        },
        "tags": [],
        "id": "previous-savannah"
      },
      "source": [
        "### Strangle"
      ]
    },
    {
      "cell_type": "code",
      "execution_count": 42,
      "id": "textile-document",
      "metadata": {
        "execution": {
          "iopub.execute_input": "2021-11-18T15:43:30.415939Z",
          "iopub.status.busy": "2021-11-18T15:43:30.415012Z",
          "iopub.status.idle": "2021-11-18T15:43:30.610703Z",
          "shell.execute_reply": "2021-11-18T15:43:30.610094Z",
          "shell.execute_reply.started": "2021-11-18T14:37:44.577877Z"
        },
        "papermill": {
          "duration": 0.307391,
          "end_time": "2021-11-18T15:43:30.610834",
          "exception": false,
          "start_time": "2021-11-18T15:43:30.303443",
          "status": "completed"
        },
        "tags": [],
        "colab": {
          "base_uri": "https://localhost:8080/",
          "height": 0
        },
        "id": "textile-document",
        "outputId": "3fd13dfb-a016-4a3a-98bc-e0266507fabc"
      },
      "outputs": [
        {
          "output_type": "display_data",
          "data": {
            "text/plain": [
              "<Figure size 432x288 with 1 Axes>"
            ],
            "image/png": "[encoded data removed]"
          },
          "metadata": {
            "needs_background": "light"
          }
        }
      ],
      "source": [
        "K1, K2 = 25, 45 # Strike prices\n",
        "strangle_payoffs = [OptionStrategies.long_strangle(S, K1, K2, T, r, sigma) for S in end_prices]\n",
        "plt.plot(end_prices, strangle_payoffs)\n",
        "plt.xlabel('End Stock prices S')\n",
        "plt.ylabel('Payoff')\n",
        "plt.title(f'T={round(T, 2)}, r={r}, sigma={round(sigma, 4)}')\n",
        "plt.suptitle('Payoff function Black-Scholes using long strangle', weight='bold', fontsize=12);"
      ]
    },
    {
      "cell_type": "markdown",
      "id": "sharp-praise",
      "metadata": {
        "papermill": {
          "duration": 0.110662,
          "end_time": "2021-11-18T15:43:30.832112",
          "exception": false,
          "start_time": "2021-11-18T15:43:30.721450",
          "status": "completed"
        },
        "tags": [],
        "id": "sharp-praise"
      },
      "source": [
        "### Butterfly"
      ]
    },
    {
      "cell_type": "code",
      "execution_count": 43,
      "id": "outstanding-india",
      "metadata": {
        "execution": {
          "iopub.execute_input": "2021-11-18T15:43:31.054584Z",
          "iopub.status.busy": "2021-11-18T15:43:31.053538Z",
          "iopub.status.idle": "2021-11-18T15:43:31.245036Z",
          "shell.execute_reply": "2021-11-18T15:43:31.245564Z",
          "shell.execute_reply.started": "2021-11-18T14:37:44.778898Z"
        },
        "papermill": {
          "duration": 0.30464,
          "end_time": "2021-11-18T15:43:31.245727",
          "exception": false,
          "start_time": "2021-11-18T15:43:30.941087",
          "status": "completed"
        },
        "tags": [],
        "colab": {
          "base_uri": "https://localhost:8080/",
          "height": 0
        },
        "id": "outstanding-india",
        "outputId": "c056b208-e449-4ddc-b58c-9722f3448104"
      },
      "outputs": [
        {
          "output_type": "display_data",
          "data": {
            "text/plain": [
              "<Figure size 432x288 with 1 Axes>"
            ],
            "image/png": "[encoded data removed]"
          },
          "metadata": {
            "needs_background": "light"
          }
        }
      ],
      "source": [
        "K1, K2, K3 = 25, 35, 45 # Strike prices\n",
        "butterfly_payoffs = [OptionStrategies.long_call_butterfly(S, K1, K2, K3, T, r, sigma) for S in end_prices]\n",
        "plt.plot(end_prices, butterfly_payoffs)\n",
        "plt.xlabel('End Stock prices S')\n",
        "plt.ylabel('Payoff')\n",
        "plt.title(f'T={round(T, 2)}, r={r}, sigma={round(sigma, 4)}')\n",
        "plt.suptitle('Payoff function Black-Scholes using long call butterfly', weight='bold', fontsize=12);"
      ]
    },
    {
      "cell_type": "markdown",
      "id": "amazing-reviewer",
      "metadata": {
        "papermill": {
          "duration": 0.10996,
          "end_time": "2021-11-18T15:43:31.465295",
          "exception": false,
          "start_time": "2021-11-18T15:43:31.355335",
          "status": "completed"
        },
        "tags": [],
        "id": "amazing-reviewer"
      },
      "source": [
        "### Iron Condor"
      ]
    },
    {
      "cell_type": "code",
      "execution_count": 44,
      "id": "inappropriate-criticism",
      "metadata": {
        "execution": {
          "iopub.execute_input": "2021-11-18T15:43:31.692081Z",
          "iopub.status.busy": "2021-11-18T15:43:31.691141Z",
          "iopub.status.idle": "2021-11-18T15:43:31.903508Z",
          "shell.execute_reply": "2021-11-18T15:43:31.903003Z",
          "shell.execute_reply.started": "2021-11-18T14:37:44.994503Z"
        },
        "papermill": {
          "duration": 0.328449,
          "end_time": "2021-11-18T15:43:31.903652",
          "exception": false,
          "start_time": "2021-11-18T15:43:31.575203",
          "status": "completed"
        },
        "tags": [],
        "colab": {
          "base_uri": "https://localhost:8080/",
          "height": 0
        },
        "id": "inappropriate-criticism",
        "outputId": "b49b895b-0bd1-46ad-d75c-e40409f4a9f3"
      },
      "outputs": [
        {
          "output_type": "display_data",
          "data": {
            "text/plain": [
              "<Figure size 432x288 with 1 Axes>"
            ],
            "image/png": "[encoded data removed]"
          },
          "metadata": {
            "needs_background": "light"
          }
        }
      ],
      "source": [
        "K1, K2, K3, K4 = 20, 25, 45, 50 # Strike prices\n",
        "iron_condor_payoffs = [OptionStrategies.long_iron_condor(S, K1, K2, K3, K4, T, r, sigma) for S in end_prices]\n",
        "plt.plot(end_prices, iron_condor_payoffs)\n",
        "plt.xlabel('End Stock prices S')\n",
        "plt.ylabel('Payoff')\n",
        "plt.title(f'T={round(T, 2)}, r={r}, sigma={round(sigma, 4)}')\n",
        "plt.suptitle('Payoff function Black-Scholes using long iron condor', weight='bold', fontsize=12);"
      ]
    },
    {
      "cell_type": "markdown",
      "id": "powerful-sullivan",
      "metadata": {
        "papermill": {
          "duration": 0.110071,
          "end_time": "2021-11-18T15:43:32.124372",
          "exception": false,
          "start_time": "2021-11-18T15:43:32.014301",
          "status": "completed"
        },
        "tags": [],
        "id": "powerful-sullivan"
      },
      "source": [
        "## Custom payoff function"
      ]
    },
    {
      "cell_type": "markdown",
      "id": "aggregate-desire",
      "metadata": {
        "papermill": {
          "duration": 0.112129,
          "end_time": "2021-11-18T15:43:32.347532",
          "exception": false,
          "start_time": "2021-11-18T15:43:32.235403",
          "status": "completed"
        },
        "tags": [],
        "id": "aggregate-desire"
      },
      "source": [
        "Financial instruments can get more complex than the trading strategies we just discussed. These products often have daunting names like [Barrier options](https://www.investopedia.com/terms/b/barrieroption.asp), [Asian options](https://en.wikipedia.org/wiki/Asian_option), [Bermudan options](https://www.investopedia.com/terms/b/bermuda.asp), [Mountain Range options](https://www.investopedia.com/terms/m/mountain_range_option.asp#:~:text=Key%20Takeaways-,Mountain%20range%20options%20are%20a%20family%20of%20exotic%20options%20based,individual%20securities%20in%20the%20basket.) and [Structured products](https://www.investopedia.com/articles/optioninvestor/07/structured_products.asp). Sometimes investors even feel the need to trade [options on options](https://www.investopedia.com/terms/c/compoundoption.asp)! As financial wizards we would like to able to do calculations with an arbitrary option strategy. The purpose of this can be for example to increase [leverage](https://www.investopedia.com/terms/l/leverage.asp) or hedge against specific risks.\n",
        "\n",
        "Let's say an investment bank has made some crazy financial instrument for you that combines call and put options according to a payoff function $\\alpha C(K)^{\\alpha P(K)}/(\\beta + P(K))^{C(K)}$ where $\\alpha=3$ and $\\beta=1$. Using Black-Scholes and Python we can set up something to visualize its payoff."
      ]
    },
    {
      "cell_type": "code",
      "execution_count": 45,
      "id": "economic-beijing",
      "metadata": {
        "execution": {
          "iopub.execute_input": "2021-11-18T15:43:32.577754Z",
          "iopub.status.busy": "2021-11-18T15:43:32.577059Z",
          "iopub.status.idle": "2021-11-18T15:43:32.696059Z",
          "shell.execute_reply": "2021-11-18T15:43:32.695444Z",
          "shell.execute_reply.started": "2021-11-18T14:37:45.219237Z"
        },
        "papermill": {
          "duration": 0.236876,
          "end_time": "2021-11-18T15:43:32.696219",
          "exception": false,
          "start_time": "2021-11-18T15:43:32.459343",
          "status": "completed"
        },
        "tags": [],
        "id": "economic-beijing"
      },
      "outputs": [],
      "source": [
        "def payoff_function(end_prices: np.ndarray, K: int, T: float, r: float, sigma: float, \n",
        "                    alpha: int = 3, beta: int = 1):\n",
        "    \"\"\" Some crazy custom payoff function \"\"\"\n",
        "    call_prices = np.array([BlackScholes().call_price(s, K, T, r, sigma) for s in end_prices])\n",
        "    put_prices = np.array([BlackScholes().put_price(s, K, T, r, sigma) for s in end_prices])\n",
        "    return alpha * call_prices**(alpha*put_prices) / (beta + put_prices)**(beta*call_prices)\n",
        "  \n",
        "K = 35 # Strike price\n",
        "T = 1 # Time till expiration (in years)\n",
        "r = 0.05 # Risk-free interest rate\n",
        "end_prices = np.arange(30, 50, 0.1)\n",
        "payoffs = payoff_function(end_prices, S, T, r, sigma)"
      ]
    },
    {
      "cell_type": "code",
      "execution_count": 46,
      "id": "complete-budapest",
      "metadata": {
        "execution": {
          "iopub.execute_input": "2021-11-18T15:43:32.951998Z",
          "iopub.status.busy": "2021-11-18T15:43:32.951315Z",
          "iopub.status.idle": "2021-11-18T15:43:33.116502Z",
          "shell.execute_reply": "2021-11-18T15:43:33.115757Z",
          "shell.execute_reply.started": "2021-11-18T14:37:45.350968Z"
        },
        "papermill": {
          "duration": 0.281209,
          "end_time": "2021-11-18T15:43:33.116657",
          "exception": false,
          "start_time": "2021-11-18T15:43:32.835448",
          "status": "completed"
        },
        "tags": [],
        "colab": {
          "base_uri": "https://localhost:8080/",
          "height": 0
        },
        "id": "complete-budapest",
        "outputId": "d273e8c4-05b5-439e-cb94-fa6842aaabea"
      },
      "outputs": [
        {
          "output_type": "display_data",
          "data": {
            "text/plain": [
              "<Figure size 432x288 with 1 Axes>"
            ],
            "image/png": "[encoded data removed]"
          },
          "metadata": {
            "needs_background": "light"
          }
        }
      ],
      "source": [
        "plt.plot(end_prices, payoffs)\n",
        "plt.xlabel('End Stock price S')\n",
        "plt.ylabel('Payoff')\n",
        "plt.title(f'K={K}, T={round(T, 2)}, r={r}, sigma={round(sigma, 4)}')\n",
        "plt.suptitle('Payoff function Black-Scholes using custom payoff function', weight='bold', fontsize=12);"
      ]
    },
    {
      "cell_type": "markdown",
      "id": "diagnostic-monthly",
      "metadata": {
        "papermill": {
          "duration": 0.11141,
          "end_time": "2021-11-18T15:43:33.342261",
          "exception": false,
          "start_time": "2021-11-18T15:43:33.230851",
          "status": "completed"
        },
        "tags": [],
        "id": "diagnostic-monthly"
      },
      "source": [
        "## Stochastic differential equation (Wiener process)"
      ]
    },
    {
      "cell_type": "markdown",
      "id": "permanent-richards",
      "metadata": {
        "papermill": {
          "duration": 0.111407,
          "end_time": "2021-11-18T15:43:33.565396",
          "exception": false,
          "start_time": "2021-11-18T15:43:33.453989",
          "status": "completed"
        },
        "tags": [],
        "id": "permanent-richards"
      },
      "source": [
        "![](https://memegenerator.net/img/instances/59439515.jpg)"
      ]
    },
    {
      "cell_type": "markdown",
      "id": "optimum-location",
      "metadata": {
        "papermill": {
          "duration": 0.116874,
          "end_time": "2021-11-18T15:43:33.794748",
          "exception": false,
          "start_time": "2021-11-18T15:43:33.677874",
          "status": "completed"
        },
        "tags": [],
        "id": "optimum-location"
      },
      "source": [
        "We have talked a lot about the Black-Scholes model, but not so much about the mathematical justification that led to the formula. It is not crucial that you know the mathematics in order to use Black-Scholes, but it does allow you to think about the formula in a general way and to adapt it to other financial situations. Feel free to skip this part if you are only interested in the code and computing the formula.\n",
        "\n",
        "As early as 1900, the French Mathematician [Louis Bachelier](https://mathshistory.st-andrews.ac.uk/Biographies/Bachelier/) modeled stock movement according to \"[Brownian motion](https://en.wikipedia.org/wiki/Brownian_motion)\", which basically means random. The insight that a stock price can be described by [Geometric Brownian Motion (GBM)](https://en.wikipedia.org/wiki/Geometric_Brownian_motion) as a [Wiener process](https://en.wikipedia.org/wiki/Wiener_process) is the first building block of the Black-Scholes formula. It allows us to set up the following Stochastic Differential equation (SDE):\n",
        "\n",
        "$dS_t = \\mu S_tdt + \\sigma S_t d W_t$, where $W_t \\sim \\mathcal{N}(0, t)$ is the Wiener process.\n",
        "\n",
        "The next important component for the Black-Scholes formula was discovered around 1950 and is called [Ito's lemma](https://en.wikipedia.org/wiki/It%C3%B4%27s_lemma), which allows us to solve an SDE for an Ito process, which is the case for Black-Scholes:\n",
        "\n",
        "For an Ito process $dX_t = \\mu S_tdt + \\sigma S_t d W_t$\n",
        "\n",
        "Through Ito's lemma, for any twice differentiable function $F(x, t)$, we get\n",
        "\n",
        "$dF(x,t) = (\\mu \\frac{\\partial F}{\\partial x} + \\frac{\\partial F}{\\partial t} + \\frac{1}{2} \\sigma_t^2 \\frac{\\partial^2 F}{\\partial x^2})dt + \\sigma_t \\frac{\\partial F}{\\partial x} d W_t$.\n",
        "\n",
        "The basic Black-Scholes model makes an additional set of assumptions:\n",
        "\n",
        "1. There are no transaction costs\n",
        "2. No dividends are involved\n",
        "3. One can easily borrow and lend cash at the risk-free interest rate $r_f$.\n",
        "4. One can buy fractions of assets.\n",
        "5. There are no restrictions on short selling (like share borrowing costs).\n",
        "\n",
        "We now have enough tools to derive SDE's involving Wiener processes. Let's take an example to show the full derivation of some Wiener Process using Ito's Lemma."
      ]
    },
    {
      "cell_type": "markdown",
      "id": "amazing-grace",
      "metadata": {
        "papermill": {
          "duration": 0.123436,
          "end_time": "2021-11-18T15:43:34.042437",
          "exception": false,
          "start_time": "2021-11-18T15:43:33.919001",
          "status": "completed"
        },
        "tags": [],
        "id": "amazing-grace"
      },
      "source": [
        "### Example of deriving stochastic differential equation"
      ]
    },
    {
      "cell_type": "markdown",
      "id": "unable-viking",
      "metadata": {
        "papermill": {
          "duration": 0.120213,
          "end_time": "2021-11-18T15:43:34.288783",
          "exception": false,
          "start_time": "2021-11-18T15:43:34.168570",
          "status": "completed"
        },
        "tags": [],
        "id": "unable-viking"
      },
      "source": [
        "Let $W_t$ be a Wiener process at time $t, t \\geq 0$.\n",
        "\n",
        "For $t \\geq 0, X_t = t^{\\alpha}e^{\\beta + \\gamma W_t}$, with $\\alpha, \\beta$ and $\\gamma$ as known constants.\n",
        "\n",
        "We apply Ito's Lemma to compute the stochastic differential equation $dX_t$."
      ]
    },
    {
      "cell_type": "markdown",
      "id": "driving-renaissance",
      "metadata": {
        "papermill": {
          "duration": 0.121079,
          "end_time": "2021-11-18T15:43:34.533287",
          "exception": false,
          "start_time": "2021-11-18T15:43:34.412208",
          "status": "completed"
        },
        "tags": [],
        "id": "driving-renaissance"
      },
      "source": [
        "\n",
        "\n",
        "Let $dS_t = \\mu S_t dt + \\sigma S_t d W_t$, where $\\mu = 0$ and $\\sigma = \\sigma_t^2 = 1$ (Standard normal distribution), then:\n",
        "\n",
        "\\begin{equation}\n",
        "F(w, t)=t^{\\alpha} e^{\\beta+\\gamma w} \\\\\n",
        "\\frac{\\partial F}{\\partial w} = \\gamma  t^{\\alpha}  e^{\\beta+\\gamma  w} = \\gamma F \\\\\n",
        "\\frac{\\partial F}{\\partial t} = \\alpha  t^{\\alpha-1}  e^{\\beta+\\gamma  w} = \\alpha \\frac{1}{t} t^{\\alpha}e^{\\beta+\\gamma  w} = \\alpha t^{-1} F\\\\\n",
        "\\frac{\\partial^{2} F}{\\partial w^{2}} = \\gamma^{2}t^{\\alpha}  e^{\\beta+\\gamma  w} = \\gamma^{2} F\n",
        "\\end{equation}\n",
        "\n",
        "\n",
        "\n",
        "\\begin{equation} \n",
        "\\begin{split}\n",
        "dX_{t} & = dF(w, t) \\\\\n",
        " & = (\\mu_{t} \\frac{\\partial F}{\\partial w} + \\frac{\\partial F}{\\partial t} + \\frac{1}{2} \\sigma_{t}^{2}  \\frac{\\partial^{2} F}{\\partial w^{2}}) dt + \\sigma_{t} \\frac{\\partial F}{\\partial w} dW_{t} \\\\\n",
        " & = (0 \\frac{\\partial F}{\\partial w} + \\frac{\\partial F}{\\partial t} + \\frac{1}{2}  1   \\frac{\\partial^{2} F}{\\partial w^{2}}) dt + 1 \\frac{\\partial F}{\\partial w} dW_{t} \\\\\n",
        " & = (0 + \\alpha t^{-1} F  + \\frac{1}{2}  \\gamma^{2} F) dt + \\gamma F dW_{t} \\\\\n",
        " & = (\\alpha t^{-1}  + \\frac{1}{2}  \\gamma^{2})F dt + \\gamma F dW_{t} \\\\\n",
        " & = (\\alpha t^{-1}  + \\frac{1}{2}  \\gamma^{2})X_{t} dt + \\gamma X_{t} dW_{t}\n",
        "\\end{split}\n",
        "\\end{equation}"
      ]
    },
    {
      "cell_type": "markdown",
      "id": "compatible-drunk",
      "metadata": {
        "papermill": {
          "duration": 0.120635,
          "end_time": "2021-11-18T15:43:34.775654",
          "exception": false,
          "start_time": "2021-11-18T15:43:34.655019",
          "status": "completed"
        },
        "tags": [],
        "id": "compatible-drunk"
      },
      "source": [
        "## Value-at-Risk (VaR)"
      ]
    },
    {
      "cell_type": "markdown",
      "id": "identical-vanilla",
      "metadata": {
        "papermill": {
          "duration": 0.11923,
          "end_time": "2021-11-18T15:43:35.015258",
          "exception": false,
          "start_time": "2021-11-18T15:43:34.896028",
          "status": "completed"
        },
        "tags": [],
        "id": "identical-vanilla"
      },
      "source": [
        "![](https://www.azquotes.com/picture-quotes/quote-a-99-value-at-risk-calculation-does-not-evaluate-what-happens-in-the-last-one-percent-david-einhorn-134-56-74.jpg)"
      ]
    },
    {
      "cell_type": "markdown",
      "id": "selected-release",
      "metadata": {
        "papermill": {
          "duration": 0.115031,
          "end_time": "2021-11-18T15:43:35.250057",
          "exception": false,
          "start_time": "2021-11-18T15:43:35.135026",
          "status": "completed"
        },
        "tags": [],
        "id": "selected-release"
      },
      "source": [
        "Value at risk (VaR) expresses how much of our investment we can lose within a given confidence interval, for example 95%. Note that this requires us to assume a probability distibution. Often (log-)normal distributions are used for finance applications. Here we give a simple example if we assume returns are normally distributed using. Note that it can be dangerous to rely on this as often we don't know the exact distribution or parameters of an investment. It is likely that we could lose much more than VaR indicates. VaR can only inform us about ordinary fluctuations of an asset.\n",
        "\n",
        "For more information about VaR you can read this series by Investopedia ([Part1](https://www.investopedia.com/articles/04/092904.asp), [Part2](https://www.investopedia.com/articles/04/101304.asp))."
      ]
    },
    {
      "cell_type": "code",
      "execution_count": 47,
      "id": "ideal-atlanta",
      "metadata": {
        "execution": {
          "iopub.execute_input": "2021-11-18T15:43:35.483474Z",
          "iopub.status.busy": "2021-11-18T15:43:35.482454Z",
          "iopub.status.idle": "2021-11-18T15:43:35.485984Z",
          "shell.execute_reply": "2021-11-18T15:43:35.486569Z",
          "shell.execute_reply.started": "2021-11-18T14:37:45.541572Z"
        },
        "papermill": {
          "duration": 0.123155,
          "end_time": "2021-11-18T15:43:35.486742",
          "exception": false,
          "start_time": "2021-11-18T15:43:35.363587",
          "status": "completed"
        },
        "tags": [],
        "id": "ideal-atlanta"
      },
      "outputs": [],
      "source": [
        "# Characteristics of portfolio\n",
        "initial_investment = 100_000\n",
        "portfolio_mean = 0.2 # Average Returns\n",
        "portfolio_std = np.sqrt(0.044) # Standard deviation of portfolio\n",
        "\n",
        "# Compute statistics for portfolio\n",
        "mean_investment = (1 + portfolio_mean) * initial_investment\n",
        "std_investment = portfolio_std * initial_investment\n",
        "\n",
        "# Cutoff point in distribution for several confidence intervals (95%, 98% and 99%)\n",
        "cutoff1 = norm.ppf(0.05, mean_investment, std_investment)\n",
        "cutoff2 = norm.ppf(0.02, mean_investment, std_investment)\n",
        "cutoff3 = norm.ppf(0.01, mean_investment, std_investment)\n",
        "\n",
        "# Calculate VaR for several confidence intervals\n",
        "VaR5 = initial_investment - cutoff1\n",
        "VaR2 = initial_investment - cutoff2\n",
        "VaR1 = initial_investment - cutoff3"
      ]
    },
    {
      "cell_type": "code",
      "execution_count": 48,
      "id": "revolutionary-internet",
      "metadata": {
        "execution": {
          "iopub.execute_input": "2021-11-18T15:43:35.717384Z",
          "iopub.status.busy": "2021-11-18T15:43:35.716378Z",
          "iopub.status.idle": "2021-11-18T15:43:35.722398Z",
          "shell.execute_reply": "2021-11-18T15:43:35.722964Z",
          "shell.execute_reply.started": "2021-11-18T14:37:45.551209Z"
        },
        "papermill": {
          "duration": 0.124519,
          "end_time": "2021-11-18T15:43:35.723142",
          "exception": false,
          "start_time": "2021-11-18T15:43:35.598623",
          "status": "completed"
        },
        "tags": [],
        "colab": {
          "base_uri": "https://localhost:8080/"
        },
        "id": "revolutionary-internet",
        "outputId": "3dfa2d84-dc10-4740-a95c-e8d7189526ce"
      },
      "outputs": [
        {
          "output_type": "stream",
          "name": "stdout",
          "text": [
            "The total value at risk (VaR) with 95% confidence is: 14502.74\n",
            "The total value at risk (VaR) with 98% confidence is: 23079.8\n",
            "The total value at risk (VaR) with 99% confidence is: 28797.88\n"
          ]
        }
      ],
      "source": [
        "print(f\"The total value at risk (VaR) with 95% confidence is: {VaR5.round(2)}\")\n",
        "print(f\"The total value at risk (VaR) with 98% confidence is: {VaR2.round(2)}\")\n",
        "print(f\"The total value at risk (VaR) with 99% confidence is: {VaR1.round(2)}\")"
      ]
    },
    {
      "cell_type": "markdown",
      "id": "front-tonight",
      "metadata": {
        "papermill": {
          "duration": 0.114431,
          "end_time": "2021-11-18T15:43:35.950869",
          "exception": false,
          "start_time": "2021-11-18T15:43:35.836438",
          "status": "completed"
        },
        "tags": [],
        "id": "front-tonight"
      },
      "source": [
        "## Downside Risk"
      ]
    },
    {
      "cell_type": "markdown",
      "id": "southwest-borough",
      "metadata": {
        "papermill": {
          "duration": 0.112637,
          "end_time": "2021-11-18T15:43:36.176262",
          "exception": false,
          "start_time": "2021-11-18T15:43:36.063625",
          "status": "completed"
        },
        "tags": [],
        "id": "southwest-borough"
      },
      "source": [
        "In the rare case that we have knowledge of the underlying distribution we can compute the downside risk. This would be more informative than VaR, since as prudent investors we are mainly interested in what we can lose in an extreme scenario.\n",
        "We define the downside risk as:"
      ]
    },
    {
      "cell_type": "markdown",
      "id": "graduate-quest",
      "metadata": {
        "papermill": {
          "duration": 0.113882,
          "end_time": "2021-11-18T15:43:36.403000",
          "exception": false,
          "start_time": "2021-11-18T15:43:36.289118",
          "status": "completed"
        },
        "tags": [],
        "id": "graduate-quest"
      },
      "source": [
        "$D \\approx \\sigma \\sqrt{(1+\\delta^2)\\Phi(-\\delta) - \\delta\\phi(\\delta)}$\n",
        "\n",
        "with $\\mathcal{G}_1 = log(S_t/S_o)$ and where, $\\Phi{.}$ is the CDF of the standard normal distribution, $\\phi$ the PDF of the standard normal distribution, $\\delta = P_f\\sqrt{t}$ and $P_f=(v - r_f)/\\sigma$. $v$ denotes drift, $r_f$ the risk-free interest rate, $\\sigma$ the standard deviation and $t$ the time index, which usually denotes years."
      ]
    },
    {
      "cell_type": "code",
      "execution_count": 49,
      "id": "legal-centre",
      "metadata": {
        "execution": {
          "iopub.execute_input": "2021-11-18T15:43:36.634664Z",
          "iopub.status.busy": "2021-11-18T15:43:36.633651Z",
          "iopub.status.idle": "2021-11-18T15:43:36.636052Z",
          "shell.execute_reply": "2021-11-18T15:43:36.636650Z",
          "shell.execute_reply.started": "2021-11-18T14:37:45.568641Z"
        },
        "papermill": {
          "duration": 0.121427,
          "end_time": "2021-11-18T15:43:36.636808",
          "exception": false,
          "start_time": "2021-11-18T15:43:36.515381",
          "status": "completed"
        },
        "tags": [],
        "id": "legal-centre"
      },
      "outputs": [],
      "source": [
        "def downside_risk(drift, r, sigma, t):\n",
        "    \"\"\" Calculate the approximate downside risk. \"\"\"\n",
        "    delta = (drift - r) / sigma * np.sqrt(t)\n",
        "    return sigma * np.sqrt((1 + delta**2) * norm.cdf(-delta) - delta * norm.pdf(delta)) "
      ]
    },
    {
      "cell_type": "markdown",
      "id": "dress-chocolate",
      "metadata": {
        "papermill": {
          "duration": 0.112868,
          "end_time": "2021-11-18T15:43:36.863194",
          "exception": false,
          "start_time": "2021-11-18T15:43:36.750326",
          "status": "completed"
        },
        "tags": [],
        "id": "dress-chocolate"
      },
      "source": [
        "In this example we define drift as $v = r_f - \\frac{1}{2}\\sigma^2$."
      ]
    },
    {
      "cell_type": "code",
      "execution_count": 50,
      "id": "specialized-portrait",
      "metadata": {
        "execution": {
          "iopub.execute_input": "2021-11-18T15:43:37.092270Z",
          "iopub.status.busy": "2021-11-18T15:43:37.091285Z",
          "iopub.status.idle": "2021-11-18T15:43:37.095666Z",
          "shell.execute_reply": "2021-11-18T15:43:37.096257Z",
          "shell.execute_reply.started": "2021-11-18T14:37:45.579197Z"
        },
        "papermill": {
          "duration": 0.120319,
          "end_time": "2021-11-18T15:43:37.096424",
          "exception": false,
          "start_time": "2021-11-18T15:43:36.976105",
          "status": "completed"
        },
        "tags": [],
        "id": "specialized-portrait"
      },
      "outputs": [],
      "source": [
        "sigma = 1/68\n",
        "r = 0.05\n",
        "drift = r - 0.5 * sigma**2\n",
        "t = 1"
      ]
    },
    {
      "cell_type": "code",
      "execution_count": 51,
      "id": "flying-facial",
      "metadata": {
        "execution": {
          "iopub.execute_input": "2021-11-18T15:43:37.325037Z",
          "iopub.status.busy": "2021-11-18T15:43:37.324097Z",
          "iopub.status.idle": "2021-11-18T15:43:37.330798Z",
          "shell.execute_reply": "2021-11-18T15:43:37.330280Z",
          "shell.execute_reply.started": "2021-11-18T14:37:45.590138Z"
        },
        "papermill": {
          "duration": 0.122047,
          "end_time": "2021-11-18T15:43:37.330939",
          "exception": false,
          "start_time": "2021-11-18T15:43:37.208892",
          "status": "completed"
        },
        "tags": [],
        "colab": {
          "base_uri": "https://localhost:8080/"
        },
        "id": "flying-facial",
        "outputId": "d31a7355-b761-41ab-93b3-2866d77b9979"
      },
      "outputs": [
        {
          "output_type": "stream",
          "name": "stdout",
          "text": [
            "The downside risk is: 1.046%\n"
          ]
        }
      ],
      "source": [
        "dr = downside_risk(drift, r, sigma, t)\n",
        "print(f\"The downside risk is: {round(dr*100, 4)}%\")"
      ]
    },
    {
      "cell_type": "markdown",
      "id": "published-expense",
      "metadata": {
        "papermill": {
          "duration": 0.112239,
          "end_time": "2021-11-18T15:43:37.555848",
          "exception": false,
          "start_time": "2021-11-18T15:43:37.443609",
          "status": "completed"
        },
        "tags": [],
        "id": "published-expense"
      },
      "source": [
        "Note that the formula is extremely sensitive to the choice of distribution and therefore has limited practical applicability in the noisy world of finance. Do not be fooled by the elegant formulas and precise numbers that VaR and downside risk give. Good risk management is a complex topic in itself, which is outside the scope of this notebook. If you are interested in learning quantitative risk management I can highly recommend [this online course by Pasquale Cirillo](https://www.youtube.com/playlist?list=PLgCR5H4IzggHyHw8dalrVHqHAqZfmTeWa)."
      ]
    },
    {
      "cell_type": "markdown",
      "id": "mineral-polls",
      "metadata": {
        "papermill": {
          "duration": 0.113802,
          "end_time": "2021-11-18T15:43:37.781513",
          "exception": false,
          "start_time": "2021-11-18T15:43:37.667711",
          "status": "completed"
        },
        "tags": [],
        "id": "mineral-polls"
      },
      "source": [
        "## The Greeks (Black-Scholes)"
      ]
    },
    {
      "cell_type": "markdown",
      "id": "hybrid-circulation",
      "metadata": {
        "papermill": {
          "duration": 0.113063,
          "end_time": "2021-11-18T15:43:38.008954",
          "exception": false,
          "start_time": "2021-11-18T15:43:37.895891",
          "status": "completed"
        },
        "tags": [],
        "id": "hybrid-circulation"
      },
      "source": [
        "![](https://i.redd.it/bioues6bwfy31.jpg)"
      ]
    },
    {
      "cell_type": "markdown",
      "id": "human-making",
      "metadata": {
        "papermill": {
          "duration": 0.111734,
          "end_time": "2021-11-18T15:43:38.232619",
          "exception": false,
          "start_time": "2021-11-18T15:43:38.120885",
          "status": "completed"
        },
        "tags": [],
        "id": "human-making"
      },
      "source": [
        "An option portfolio can have different dimensions of risk exposure which we would like to manage as an option trader. There are a lot of risk dimensions in option portfolio's, but traders tend to focus on 5 core dimensions which are termed \"The Greeks\". They can be described as follows:\n",
        "\n",
        "Delta $\\Delta$: Rate of change in option price with respect to the underlying stock price (1st derivative). \n",
        "\n",
        "Gamma $\\Gamma$: Rate of change in delta with respect to the underlying stock price (2nd derivative). \n",
        "\n",
        "Vega $\\mathcal{V}$: Rate of change in option price with respect to the volatility ($\\sigma$) of the stock price. The funny thing is Vega is not a Greek letter, but somehow Vega ended up in what people call The Greeks. $\\mathcal{V}$ is actually the Greek letter \"Nu\".\n",
        "\n",
        "Theta $\\Theta$: Rate of change in option price with respect to time (i.e. time decay). In general the price of an option decreases over time given that all other values stay the same. The speed of this time decay differs based on the characteristics of an option and changes as time progresses.\n",
        "\n",
        "Rho $\\mathrm{P}$: Rate of change in option price with respect to interest rate. This value is often small and not so big of an issue in practice, unless we have long-term options that are already deep in-the-money as changes in interest rate will greatly affect the value of the option.\n",
        "\n",
        "Calculation of the Greeks differs slightly between call and put options. Gamma and Vega are calculated the same for calls and puts. \n",
        "\n",
        "To simplify things we will exclude the influence of annual stock dividends denoted by parameter $q$ (except for the greek Epsilon). The original five Greeks have versions which integrates the dividend yield, but this makes the formulas unnecessarily complex for an introduction. If you want to explore how the core Greeks are calculated with dividends check out https://en.wikipedia.org/wiki/Greeks_(finance).\n",
        "\n",
        "We further assume that we calculate the Greeks at time $t=0$. In other words, right as the option is written."
      ]
    },
    {
      "cell_type": "markdown",
      "id": "foster-external",
      "metadata": {
        "papermill": {
          "duration": 0.112458,
          "end_time": "2021-11-18T15:43:38.457482",
          "exception": false,
          "start_time": "2021-11-18T15:43:38.345024",
          "status": "completed"
        },
        "tags": [],
        "id": "foster-external"
      },
      "source": [
        "The formula's for calculating The Greeks are defined as follows:\n",
        "\n",
        "$S_t$ = Stock price at time $t$, \n",
        "\n",
        "$K$ = Strike price of option, \n",
        "\n",
        "$T$ is time until expiration in years, \n",
        "\n",
        "$r$ = risk-free interest rate $\\sigma$ = standard deviation (i.e. volatility), \n",
        "\n",
        "$\\Phi$ is the Cumulative Density Function (CDF) of the standard normal distribution ($N(0, 1)$),\n",
        "\n",
        "$\\phi$ is the Probability Density Function (PDF) of $N(0, 1)$.\n",
        "\n",
        "$d_1^{(t)} = \\frac{1}{\\sigma \\sqrt{T}}[ln(\\frac{S_t}{K}) + (r+\\frac{\\sigma^2}{2})T]$\n",
        "\n",
        "$d_2^{(t)} = d_1^{(t)} - \\sigma \\sqrt{T}$\n",
        "\n",
        "**Call options (C)**\n",
        "\n",
        "Delta ($\\Delta$) = $\\frac{\\partial C}{\\partial S} = \\Phi(d_1^{(t)})$\n",
        "\n",
        "Gamma ($\\Gamma$) = $\\frac{\\partial^2 C}{\\partial S^2} = \\frac{\\phi(d_1^{(t)})}{S \\sigma \\sqrt{T}}$\n",
        "\n",
        "Vega ($\\mathcal{V}$) = $\\frac{\\partial C}{\\partial \\sigma} = S \\phi(d_1^{(t)})\\sqrt{T}$\n",
        "\n",
        "Theta $(\\Theta)$ = $\\frac{\\partial C}{\\partial t} = -\\frac{S\\phi(d_1^{(t)}) \\sigma}{2 \\sqrt{T}} - rKe^{-rT}\\Phi(d_2^{(t)})$\n",
        "\n",
        "Rho ($\\mathrm{P}$) = $\\frac{\\partial C}{\\partial r} = KTe^{-rT}\\Phi(d_2^{(t)})$\n",
        "\n",
        "**Put options (P)**\n",
        "\n",
        "Delta ($\\Delta$) = $\\frac{\\partial P}{\\partial S} = \\Phi(d_1^{(t)}) - 1$\n",
        "\n",
        "Gamma ($\\Gamma$) = $\\frac{\\partial^2 P}{\\partial S^2} = \\frac{\\phi(d_1^{(t)})}{S \\sigma \\sqrt{T}}$\n",
        "\n",
        "Vega ($\\mathcal{V}$) = $\\frac{\\partial P}{\\partial \\sigma} = S \\phi(d_1^{(t)})\\sqrt{T}$\n",
        "\n",
        "Theta $(\\Theta)$ = $\\frac{\\partial P}{\\partial t} = -\\frac{S\\phi(d_1^{(t)}) \\sigma}{2 \\sqrt{T}} - rKe^{-rT}\\Phi(-d_2^{(t)})$\n",
        "\n",
        "Rho ($\\rho$) = $\\frac{\\partial P}{\\partial r} = -KTe^{-rT}\\Phi(-d_2^{(t)})$"
      ]
    },
    {
      "cell_type": "markdown",
      "id": "preliminary-variable",
      "metadata": {
        "papermill": {
          "duration": 0.121305,
          "end_time": "2021-11-18T15:43:38.691124",
          "exception": false,
          "start_time": "2021-11-18T15:43:38.569819",
          "status": "completed"
        },
        "tags": [],
        "id": "preliminary-variable"
      },
      "source": [
        "### Advanced: Down the Greek rabbit hole\n",
        "\n",
        "While the five Greeks discussed above are still the core dimensions, further research and the rise in computing power has led us into exploring more complex dimensions. This allows us to hedge a lot more sophistically and develop trading strategies to profit from very specific situations. Here are some of the more obscure Greeks.\n",
        "\n",
        "#### Lambda\n",
        "\n",
        "Lambda ($\\lambda$) is the percentage change in option value per percentage change in the underlying price, also called gearing.\n",
        "\n",
        "Lambda call = $\\frac{\\partial C}{\\partial S} \\times \\frac{S}{C} = \\Delta \\frac{S}{C}$.\n",
        "\n",
        "Lambda put = $\\frac{\\partial P}{\\partial S} \\times \\frac{S}{P} = \\Delta \\frac{S}{P}$.\n",
        "\n",
        "#### Epsilon\n",
        "\n",
        "Epsilon ($\\epsilon$) is the percentage change in option value per percentage change in the underlying dividend yield. It informs us about the risk in our option portfolio regarding changes in dividend yield. \n",
        "\n",
        "Epsilon call = $\\frac{\\partial C}{\\partial q}$ = $-ST e^{-qT} \\Phi(d_1^{(t)})$\n",
        "\n",
        "Epsilon put = $\\frac{\\partial P}{\\partial q}$ = $ST e^{-qT} \\Phi(-d_1^{(t)})$\n",
        "\n",
        "#### Vanna\n",
        "\n",
        "Vanna is the change is Vega per percentage change of the underlying stock price.\n",
        "\n",
        "Vanna = $\\frac{\\partial \\mathcal{C}}{\\partial S}$ = $-\\phi(d_1^{(t)}) \\frac{d_2^{(t)}}{\\sigma}$\n",
        "\n",
        "Vanna is calculated the same for calls and puts.\n",
        "\n",
        "#### Charm\n",
        "\n",
        "Charm (delta decay) denotes the rate of change of delta over time.\n",
        "\n",
        "Charm = $\\frac{\\partial^2 C}{\\partial T \\partial S}$ = $-\\phi(d_1^{(t)}) \\frac{2rT - d_2^{(t)}\\sigma \\sqrt{T}}{2T\\sigma \\sqrt{T}}$\n",
        "\n",
        "Charm is calculated the same for calls and puts except if dividends are included.\n",
        "\n",
        "#### Vomma\n",
        "\n",
        "Vomma computes the second order effect of volatility (vega). More clearly, it can be described as \"vega convexity\".\n",
        "\n",
        "Vomma = $\\frac{\\partial^2 C}{\\partial \\sigma^2}$ = $S \\phi(d_1^{(t)})\\sqrt{T}\\frac{d_1^{(t)} d_2^{(t)}}{\\sigma}$ = $\\mathcal{V}\\frac{d_1^{(t)} d_2^{(t)}}{\\sigma}$\n",
        "\n",
        "Since Vega is the same for calls and puts, the same is the case for Vomma.\n",
        "\n",
        "#### Veta\n",
        "\n",
        "Veta shows the rate of change in vega with respect to time.\n",
        "\n",
        "Veta = $\\frac{\\partial^2 C}{\\partial \\sigma \\partial T}$ = $-S \\phi(d_1^{(t)}) \\sqrt{T} (\\frac{r d_1^{(t)}}{\\sigma \\sqrt{T}} - \\frac{1+d_1^{(t)} d_2^{(t)}}{2 T})$\n",
        "\n",
        "Veta is calculated the same for calls and puts.\n",
        "\n",
        "#### Speed\n",
        "\n",
        "Speed is the rate of change in Gamma ($\\Gamma$) with respect to changes in underlying asset price. This makes it a third-order effect.\n",
        "\n",
        "\n",
        "Speed = $\\frac{\\partial^3 C}{\\partial S^3}$ = $\\frac{\\partial \\Gamma}{\\partial S}$ = $\\frac{\\phi(d_1^{(t)})}{S^2 \\sigma \\sqrt{T}}(\\frac{d_1^{(t)}}{\\sigma \\sqrt{T}} + 1)$\n",
        "\n",
        "It is calculated the same for calls and puts, since Gamma is also the same for calls and puts.\n",
        "\n",
        "#### Zomma\n",
        "\n",
        "Zomma measure the rate of change of gamma with respect to change in volatility. Note that this is a third order greek and can be used to monitor the effectiveness of gamma hedging in an option portfolio. \n",
        "\n",
        "Zomma = $\\frac{\\partial^3 C}{\\partial S^2 \\partial \\sigma}$ =  $\\frac{\\partial \\Gamma}{\\partial \\sigma}$ = $\\frac{\\phi(d_1^{(t)})(d_1^{(t)}d_2^{(t)}-1)}{S \\sigma^2 \\sqrt{T}}$\n",
        "\n",
        "Again it is calculated the same for calls and puts, since Gamma is also the same for calls and puts.\n",
        "\n",
        "\n",
        "#### Color\n",
        "\n",
        "Color is gamma's rate of change with respect to time. It can also be thought of the gamma per year.\n",
        "\n",
        "Color = $\\frac{\\partial^3 C}{\\partial S^2 \\partial T} = \\frac{\\partial \\Gamma}{\\partial T} = \\frac{\\phi(d_1^{(t)})}{2ST\\sigma\\sqrt{T}}[2T + 1 + \\frac{2rT - d_2^{(t)}\\sigma \\sqrt{T}}{\\sigma \\sqrt{T}}d_1^{(t)}]$\n",
        "\n",
        "It is calculated the same for calls and puts.\n",
        "\n",
        "#### Ultima\n",
        "\n",
        "The last greek we will discuss, Ultima, is a third order greek on the option volatility. More technically, it measures the sensitivity of vomma with respect to volatility. Recall that Vomma measures the 2nd order effect of volatility and Vega the 1st order effect.\n",
        "\n",
        "Ultima = $\\frac{\\partial^3 C}{\\partial sigma^3} = \\frac{\\partial vomma}{\\partial \\sigma} = \\frac{\\mathcal{V}}{\\sigma^2}[d_1 d_2 (1-d_1 d_2) + d_1^2 + d_2^2]$\n",
        "\n",
        "Vega is the same for call and puts and as Ultima derives its value from Vega it is the same for calls and puts.\n",
        "\n",
        "----------------------------------------------------------------------------------------\n",
        "Below you will find Python implementations for all the mentioned Greeks."
      ]
    },
    {
      "cell_type": "code",
      "execution_count": 52,
      "id": "dental-resistance",
      "metadata": {
        "execution": {
          "iopub.execute_input": "2021-11-18T15:43:38.928232Z",
          "iopub.status.busy": "2021-11-18T15:43:38.927449Z",
          "iopub.status.idle": "2021-11-18T15:43:38.957220Z",
          "shell.execute_reply": "2021-11-18T15:43:38.956661Z",
          "shell.execute_reply.started": "2021-11-18T14:37:45.604948Z"
        },
        "papermill": {
          "duration": 0.153654,
          "end_time": "2021-11-18T15:43:38.957373",
          "exception": false,
          "start_time": "2021-11-18T15:43:38.803719",
          "status": "completed"
        },
        "tags": [],
        "id": "dental-resistance"
      },
      "outputs": [],
      "source": [
        "class BlackScholesGreeks:\n",
        "    \"\"\" \n",
        "    Class to calculate (European) call and put option greeks.\n",
        "    \n",
        "    :param S: Price of underlying stock\n",
        "    :param K: Strike price\n",
        "    :param T: Time till expiration (in years)\n",
        "    :param r: Risk-free interest rate (0.05 indicates 5%)\n",
        "    :param sigma: Volatility (standard deviation) of stock (0.15 indicates 15%)\n",
        "    :param q: The annual dividend yield of a stock\n",
        "    \"\"\"\n",
        "    @staticmethod\n",
        "    def _d1(S, K, T, r, sigma):\n",
        "        return (1 / (sigma * np.sqrt(T))) * (np.log(S/K) + (r + sigma**2 / 2) * T)\n",
        "    \n",
        "    def _d2(self, S, K, T, r, sigma):\n",
        "        return self._d1(S, K, T, r, sigma) - sigma * np.sqrt(T)\n",
        "    \n",
        "    def call_delta(self, S, K, T, r, sigma):\n",
        "        d1 = self._d1(S, K, T, r, sigma)\n",
        "        return norm.cdf(d1)\n",
        "    \n",
        "    def call_gamma(self, S, K, T, r, sigma):\n",
        "        d1 = self._d1(S, K, T, r, sigma)\n",
        "        return norm.pdf(d1) / (S * sigma * np.sqrt(T))\n",
        "    \n",
        "    def call_vega(self, S, K, T, r, sigma):\n",
        "        d1 = self._d1(S, K, T, r, sigma)\n",
        "        return S * norm.pdf(d1) * np.sqrt(T)\n",
        "    \n",
        "    def call_theta(self, S, K, T, r, sigma):\n",
        "        d1 = self._d1(S, K, T, r, sigma)\n",
        "        d2 = self._d2(S, K, T, r, sigma)\n",
        "        return - ((S * norm.pdf(d1) * sigma) / (2 * np.sqrt(T))) - r * K * np.exp(-r*T) * norm.cdf(d2)\n",
        "    \n",
        "    def call_rho(self, S, K, T, r, sigma):\n",
        "        d2 = self._d2(S, K, T, r, sigma)\n",
        "        return K * T * np.exp(-r*T) * norm.cdf(d2)\n",
        "    \n",
        "    def call_lambda(self, S, K, T, r, sigma):\n",
        "        delta = self.call_delta(S, K, T, r, sigma)\n",
        "        return delta * (S / V)\n",
        "    \n",
        "    def call_epsilon(self, S, K, T, r, sigma, q):\n",
        "        d1 = self._d1(S, K, T, r, sigma)\n",
        "        return -S * T * np.exp(-q*T) * norm.cdf(d1)\n",
        "    \n",
        "    def put_delta(self, S, K, T, r, sigma):\n",
        "        d1 = self._d1(S, K, T, r, sigma)\n",
        "        return norm.cdf(d1) - 1\n",
        "    \n",
        "    def put_gamma(self, S, K, T, r, sigma):\n",
        "        d1 = self._d1(S, K, T, r, sigma)\n",
        "        return norm.pdf(d1) / (S * sigma * np.sqrt(T))\n",
        "    \n",
        "    def put_vega(self, S, K, T, r, sigma):\n",
        "        d1 = self._d1(S, K, T, r, sigma)\n",
        "        return S * norm.pdf(d1) * np.sqrt(T)\n",
        "    \n",
        "    def put_theta(self, S, K, T, r, sigma):\n",
        "        d1 = self._d1(S, K, T, r, sigma)\n",
        "        d2 = self._d2(S, K, T, r, sigma)\n",
        "        return - ((S * norm.pdf(d1) * sigma) / (2 * np.sqrt(T))) + r * K * np.exp(-r*T) * norm.cdf(-d2)\n",
        "    \n",
        "    def put_rho(self, S, K, T, r, sigma):\n",
        "        d2 = self._d2(S, K, T, r, sigma)\n",
        "        return - K * T * np.exp(-r*T) * norm.cdf(-d2)\n",
        "    \n",
        "    def put_lambda(self, S, K, T, r, sigma):\n",
        "        delta = self.put_delta(S, K, T, r, sigma)\n",
        "        return delta * (S / V)\n",
        "    \n",
        "    def put_epsilon(self, S, K, T, r, sigma, q):\n",
        "        d1 = self._d1(S, K, T, r, sigma)\n",
        "        return S * T * np.exp(-q*T) * norm.cdf(-d1)\n",
        "    \n",
        "    def vanna(self, S, K, T, r, sigma):\n",
        "        d1 = self._d1(S, K, T, r, sigma)\n",
        "        d2 = self._d2(S, K, T, r, sigma)\n",
        "        return norm.pdf(d1) * d2 / sigma\n",
        "    \n",
        "    def charm(self, S, K, T, r, sigma):\n",
        "        d1 = self._d1(S, K, T, r, sigma)\n",
        "        d2 = self._d2(S, K, T, r, sigma)\n",
        "        return -norm.pdf(d1) * ((2 * r * T - d2 * sigma * np.sqrt(T)) / (2 * T * sigma * np.sqrt(T)))\n",
        "    \n",
        "    def vomma(self, S, K, T, r, sigma):\n",
        "        d1 = self._d1(S, K, T, r, sigma)\n",
        "        d2 = self._d2(S, K, T, r, sigma)\n",
        "        return S * norm.pdf(d1) * np.sqrt(T) * ((d1 * d2) / sigma)\n",
        "    \n",
        "    def veta(self, S, K, T, r, sigma):\n",
        "        d1 = self._d1(S, K, T, r, sigma)\n",
        "        d2 = self._d2(S, K, T, r, sigma)\n",
        "        return -S * norm.pdf(d1) * np.sqrt(T) * (r * d1 / (sigma * np.sqrt(T)) - (1 + d1 * d2) / (2 * T))\n",
        "    \n",
        "    def zomma(self, S, K, T, r, sigma):\n",
        "        d1 = self._d1(S, K, T, r, sigma)\n",
        "        d2 = self._d2(S, K, T, r, sigma)\n",
        "        return norm.pdf(d1) * (d1*d2 - 1) / (S * sigma**2 * np.sqrt(T))\n",
        "    \n",
        "    def color(self, S, K, T, r, sigma):\n",
        "        d1 = self._d1(S, K, T, r, sigma)\n",
        "        d2 = self._d2(S, K, T, r, sigma)\n",
        "        return norm.pdf(d1) / (2*S*T*sigma*np.sqrt(T)) * (2*T + 1 + ((2*r*T - d2*sigma*np.sqrt(T)) / sigma*np.sqrt(T)) * d1)\n",
        "    \n",
        "    def ultima(self, S, K, T, r, sigma):\n",
        "        d1 = self._d1(S, K, T, r, sigma)\n",
        "        d2 = self._d2(S, K, T, r, sigma)\n",
        "        vega = self.call_vega(S, K, T, r, sigma)\n",
        "        return -vega/sigma**2 * (d1 * d2 * (1-d1*d2) + d1**2 + d2**2)"
      ]
    },
    {
      "cell_type": "code",
      "execution_count": 53,
      "id": "amino-africa",
      "metadata": {
        "execution": {
          "iopub.execute_input": "2021-11-18T15:43:39.189578Z",
          "iopub.status.busy": "2021-11-18T15:43:39.188550Z",
          "iopub.status.idle": "2021-11-18T15:43:39.190819Z",
          "shell.execute_reply": "2021-11-18T15:43:39.191346Z",
          "shell.execute_reply.started": "2021-11-18T14:37:45.648919Z"
        },
        "papermill": {
          "duration": 0.120433,
          "end_time": "2021-11-18T15:43:39.191521",
          "exception": false,
          "start_time": "2021-11-18T15:43:39.071088",
          "status": "completed"
        },
        "tags": [],
        "id": "amino-africa"
      },
      "outputs": [],
      "source": [
        "S = 36 # Stock price\n",
        "K = 35 # Strike price\n",
        "T = 2/12 # Time till expiration (in years)\n",
        "r = 0.05 # Risk-free interest rate\n",
        "sigma = np.sqrt(1/68) # Volatility (standard deviation)"
      ]
    },
    {
      "cell_type": "markdown",
      "id": "requested-dietary",
      "metadata": {
        "papermill": {
          "duration": 0.113379,
          "end_time": "2021-11-18T15:43:39.418302",
          "exception": false,
          "start_time": "2021-11-18T15:43:39.304923",
          "status": "completed"
        },
        "tags": [],
        "id": "requested-dietary"
      },
      "source": [
        "### 5 Core Greeks"
      ]
    },
    {
      "cell_type": "code",
      "execution_count": 54,
      "id": "utility-lesson",
      "metadata": {
        "execution": {
          "iopub.execute_input": "2021-11-18T15:43:39.647749Z",
          "iopub.status.busy": "2021-11-18T15:43:39.646773Z",
          "iopub.status.idle": "2021-11-18T15:43:39.655899Z",
          "shell.execute_reply": "2021-11-18T15:43:39.656537Z",
          "shell.execute_reply.started": "2021-11-18T14:37:45.663933Z"
        },
        "papermill": {
          "duration": 0.125534,
          "end_time": "2021-11-18T15:43:39.656726",
          "exception": false,
          "start_time": "2021-11-18T15:43:39.531192",
          "status": "completed"
        },
        "tags": [],
        "colab": {
          "base_uri": "https://localhost:8080/"
        },
        "id": "utility-lesson",
        "outputId": "d2ef7fb1-c499-4d60-e3f0-ae43c5955c68"
      },
      "outputs": [
        {
          "output_type": "stream",
          "name": "stdout",
          "text": [
            "----- Call option -----\n",
            "Delta: 0.7770006122976156\n",
            "Gamma: 0.16742428402928158\n",
            "Vega: 4.385486164316654\n",
            "Theta: -2.917805075810147\n",
            "Rho: 4.407833779613507\n"
          ]
        }
      ],
      "source": [
        "print(\"----- Call option -----\")\n",
        "print(f\"Delta: {BlackScholesGreeks().call_delta(S, K, T, r, sigma)}\")\n",
        "print(f\"Gamma: {BlackScholesGreeks().call_gamma(S, K, T, r, sigma)}\")\n",
        "print(f\"Vega: {BlackScholesGreeks().call_vega(S, K, T, r, sigma)}\")\n",
        "print(f\"Theta: {BlackScholesGreeks().call_theta(S, K, T, r, sigma)}\")\n",
        "print(f\"Rho: {BlackScholesGreeks().call_rho(S, K, T, r, sigma)}\")"
      ]
    },
    {
      "cell_type": "code",
      "execution_count": 55,
      "id": "light-questionnaire",
      "metadata": {
        "execution": {
          "iopub.execute_input": "2021-11-18T15:43:39.886653Z",
          "iopub.status.busy": "2021-11-18T15:43:39.885951Z",
          "iopub.status.idle": "2021-11-18T15:43:39.894241Z",
          "shell.execute_reply": "2021-11-18T15:43:39.894703Z",
          "shell.execute_reply.started": "2021-11-18T14:37:45.682001Z"
        },
        "papermill": {
          "duration": 0.123807,
          "end_time": "2021-11-18T15:43:39.894889",
          "exception": false,
          "start_time": "2021-11-18T15:43:39.771082",
          "status": "completed"
        },
        "tags": [],
        "colab": {
          "base_uri": "https://localhost:8080/"
        },
        "id": "light-questionnaire",
        "outputId": "3135d79f-0332-4d65-bbc9-5fa43373b15c"
      },
      "outputs": [
        {
          "output_type": "stream",
          "name": "stdout",
          "text": [
            "----- Put option -----\n",
            "Delta: -0.22299938770238437\n",
            "Gamma: 0.16742428402928158\n",
            "Vega: 4.385486164316654\n",
            "Theta: -1.1823278136921145\n",
            "Rho: -1.3770904274466018\n"
          ]
        }
      ],
      "source": [
        "print(\"----- Put option -----\")\n",
        "print(f\"Delta: {BlackScholesGreeks().put_delta(S, K, T, r, sigma)}\")\n",
        "print(f\"Gamma: {BlackScholesGreeks().put_gamma(S, K, T, r, sigma)}\")\n",
        "print(f\"Vega: {BlackScholesGreeks().put_vega(S, K, T, r, sigma)}\")\n",
        "print(f\"Theta: {BlackScholesGreeks().put_theta(S, K, T, r, sigma)}\")\n",
        "print(f\"Rho: {BlackScholesGreeks().put_rho(S, K, T, r, sigma)}\")"
      ]
    },
    {
      "cell_type": "markdown",
      "id": "canadian-fountain",
      "metadata": {
        "papermill": {
          "duration": 0.113504,
          "end_time": "2021-11-18T15:43:40.125168",
          "exception": false,
          "start_time": "2021-11-18T15:43:40.011664",
          "status": "completed"
        },
        "tags": [],
        "id": "canadian-fountain"
      },
      "source": [
        "### Advanced Greeks"
      ]
    },
    {
      "cell_type": "code",
      "execution_count": 56,
      "id": "protected-marking",
      "metadata": {
        "execution": {
          "iopub.execute_input": "2021-11-18T15:43:40.356827Z",
          "iopub.status.busy": "2021-11-18T15:43:40.356116Z",
          "iopub.status.idle": "2021-11-18T15:43:40.358802Z",
          "shell.execute_reply": "2021-11-18T15:43:40.358281Z",
          "shell.execute_reply.started": "2021-11-18T14:37:45.697783Z"
        },
        "papermill": {
          "duration": 0.120315,
          "end_time": "2021-11-18T15:43:40.358934",
          "exception": false,
          "start_time": "2021-11-18T15:43:40.238619",
          "status": "completed"
        },
        "tags": [],
        "id": "protected-marking"
      },
      "outputs": [],
      "source": [
        "q = 0.05 # 5% annual dividend yield"
      ]
    },
    {
      "cell_type": "code",
      "execution_count": 57,
      "id": "ambient-flower",
      "metadata": {
        "execution": {
          "iopub.execute_input": "2021-11-18T15:43:40.588646Z",
          "iopub.status.busy": "2021-11-18T15:43:40.588052Z",
          "iopub.status.idle": "2021-11-18T15:43:40.597536Z",
          "shell.execute_reply": "2021-11-18T15:43:40.598134Z",
          "shell.execute_reply.started": "2021-11-18T14:37:45.704865Z"
        },
        "papermill": {
          "duration": 0.125645,
          "end_time": "2021-11-18T15:43:40.598301",
          "exception": false,
          "start_time": "2021-11-18T15:43:40.472656",
          "status": "completed"
        },
        "tags": [],
        "colab": {
          "base_uri": "https://localhost:8080/"
        },
        "id": "ambient-flower",
        "outputId": "d6db533c-ffac-4a9d-ec70-59784893591b"
      },
      "outputs": [
        {
          "output_type": "stream",
          "name": "stdout",
          "text": [
            "Call epsilon: -4.623315069580461\n",
            "Put epsilon: 1.326892686252795\n",
            "Vanna: 1.7534291743210113\n",
            "Charm: 0.3365398498736247\n",
            "Vomma: 19.639414810264917\n",
            "Veta: 16.925898290489435\n",
            "Zomma: -0.6308439620252236\n",
            "Color: 0.645712879273512\n",
            "Ultima: -398.6324962578006\n"
          ]
        }
      ],
      "source": [
        "print(f\"Call epsilon: {BlackScholesGreeks().call_epsilon(S, K, T, r, sigma, q)}\")\n",
        "print(f\"Put epsilon: {BlackScholesGreeks().put_epsilon(S, K, T, r, sigma, q)}\")\n",
        "print(f\"Vanna: {BlackScholesGreeks().vanna(S, K, T, r, sigma)}\")\n",
        "print(f\"Charm: {BlackScholesGreeks().charm(S, K, T, r, sigma)}\")\n",
        "print(f\"Vomma: {BlackScholesGreeks().vomma(S, K, T, r, sigma)}\")\n",
        "print(f\"Veta: {BlackScholesGreeks().veta(S, K, T, r, sigma)}\")\n",
        "print(f\"Zomma: {BlackScholesGreeks().zomma(S, K, T, r, sigma)}\")\n",
        "print(f\"Color: {BlackScholesGreeks().color(S, K, T, r, sigma)}\")\n",
        "print(f\"Ultima: {BlackScholesGreeks().ultima(S, K, T, r, sigma)}\")"
      ]
    },
    {
      "cell_type": "markdown",
      "id": "variable-bailey",
      "metadata": {
        "papermill": {
          "duration": 0.112978,
          "end_time": "2021-11-18T15:43:40.826177",
          "exception": false,
          "start_time": "2021-11-18T15:43:40.713199",
          "status": "completed"
        },
        "tags": [],
        "id": "variable-bailey"
      },
      "source": [
        "## Option pricing with dividends"
      ]
    },
    {
      "cell_type": "markdown",
      "id": "opening-evaluation",
      "metadata": {
        "papermill": {
          "duration": 0.122757,
          "end_time": "2021-11-18T15:43:41.063116",
          "exception": false,
          "start_time": "2021-11-18T15:43:40.940359",
          "status": "completed"
        },
        "tags": [],
        "id": "opening-evaluation"
      },
      "source": [
        "We can adjust the Black-Scholes formula to account for dividends. Most of the formula will stay the same, but we now have an additional parameter $q$, indicating the annual dividend yield. The Black-Scholes model assumes that the underlying share price drops when a dividend is paid as money is taken out of the underlying business. Therefore, a dividend is discounted by multiplying parts of the formula by $e^{-qT}$.\n",
        "\n",
        "$S_t$ = Stock price at time $t$, $K$ = Strike price of option, $T$ is time till expiration in years, $r$ = risk-free interest rate $\\sigma$ = standard deviation (i.e. volatility), $q$=Annual dividend yield.\n",
        "\n",
        "$\\Phi$ is the Cumulative Density Function (CDF) of the standard normal distribution ($N(0, 1)$).\n",
        "\n",
        "\n",
        "$C(S_t, t) = \\Phi(d_1^{(t)})S_t e^{-qT} - \\Phi(d_2^{(t)})Ke^{-rT}$\n",
        "\n",
        "$P(S_t, t) = \\Phi(-d_2^{(t)})Ke^{-rT} - \\Phi(-d_1^{(t)})S_t e^{-qT}$\n",
        "\n",
        "where $d_1^{(t)} = \\frac{1}{\\sigma \\sqrt{T}}[ln(\\frac{S_t e^{-qT}}{K}) + (r+\\frac{\\sigma^2}{2})T]$\n",
        "\n",
        "$d_2^{(t)} = d_1^{(t)} - \\sigma \\sqrt{T}$"
      ]
    },
    {
      "cell_type": "code",
      "execution_count": 58,
      "id": "hollow-register",
      "metadata": {
        "execution": {
          "iopub.execute_input": "2021-11-18T15:43:41.291971Z",
          "iopub.status.busy": "2021-11-18T15:43:41.291350Z",
          "iopub.status.idle": "2021-11-18T15:43:41.303756Z",
          "shell.execute_reply": "2021-11-18T15:43:41.304224Z",
          "shell.execute_reply.started": "2021-11-18T14:37:45.723865Z"
        },
        "papermill": {
          "duration": 0.128051,
          "end_time": "2021-11-18T15:43:41.304398",
          "exception": false,
          "start_time": "2021-11-18T15:43:41.176347",
          "status": "completed"
        },
        "tags": [],
        "id": "hollow-register"
      },
      "outputs": [],
      "source": [
        "class BlackScholesDividend:\n",
        "    \"\"\" \n",
        "    Class to calculate (European) call and put option prices through the Black-Scholes formula \n",
        "    with dividends\n",
        "    \n",
        "    :param S: Price of underlying stock\n",
        "    :param K: Strike price\n",
        "    :param T: Time till expiration (in years)\n",
        "    :param r: Risk-free interest rate (0.05 indicates 5%)\n",
        "    :param sigma: Volatility (standard deviation) of stock (0.15 indicates 15%)\n",
        "    :param q: Annual dividend yield (0.05 indicates 5%)\n",
        "    \"\"\"\n",
        "    @staticmethod\n",
        "    def _d1(S, K, T, r, sigma, q):\n",
        "        return (1 / (sigma * np.sqrt(T))) * (np.log(S * np.exp(-q*T) / K) + (r + sigma**2 / 2) * T)\n",
        "    \n",
        "    def _d2(self, S, K, T, r, sigma, q):\n",
        "        return self._d1(S, K, T, r, sigma, q) - sigma * np.sqrt(T)\n",
        "    \n",
        "    def call_price(self, S, K, T, r, sigma, q):\n",
        "        \"\"\" Main method for calculating price of a call option \"\"\"\n",
        "        d1 = self._d1(S, K, T, r, sigma, q)\n",
        "        d2 = self._d2(S, K, T, r, sigma, q)\n",
        "        return norm.cdf(d1) * S * np.exp(-q*T) - norm.cdf(d2) * K * np.exp(-r*T)\n",
        "    \n",
        "    def put_price(self, S, K, T, r, sigma, q):\n",
        "        \"\"\" Main method for calculating price of a put option \"\"\"\n",
        "        d1 = self._d1(S, K, T, r, sigma, q)\n",
        "        d2 = self._d2(S, K, T, r, sigma, q)\n",
        "        return norm.cdf(-d2) * K * np.exp(-r*T) - norm.cdf(-d1) * S * np.exp(-q*T)\n",
        "    \n",
        "    def call_in_the_money(self, S, K, T, r, sigma, q):\n",
        "        \"\"\" \n",
        "        Calculate probability that call option will be in the money at\n",
        "        maturity according to Black-Scholes.\n",
        "        \"\"\"\n",
        "        d2 = self._d2(S, K, T, r, sigma, q)\n",
        "        return norm.cdf(d2)\n",
        "    \n",
        "    def put_in_the_money(self, S, K, T, r, sigma, q):\n",
        "        \"\"\" \n",
        "        Calculate probability that put option will be in the money at\n",
        "        maturity according to Black-Scholes.\n",
        "        \"\"\"\n",
        "        d2 = self._d2(S, K, T, r, sigma, q)\n",
        "        return 1 - norm.cdf(d2)"
      ]
    },
    {
      "cell_type": "code",
      "execution_count": 59,
      "id": "offshore-joyce",
      "metadata": {
        "execution": {
          "iopub.execute_input": "2021-11-18T15:43:41.533855Z",
          "iopub.status.busy": "2021-11-18T15:43:41.533227Z",
          "iopub.status.idle": "2021-11-18T15:43:41.537284Z",
          "shell.execute_reply": "2021-11-18T15:43:41.537778Z",
          "shell.execute_reply.started": "2021-11-18T14:37:45.739819Z"
        },
        "papermill": {
          "duration": 0.120505,
          "end_time": "2021-11-18T15:43:41.537938",
          "exception": false,
          "start_time": "2021-11-18T15:43:41.417433",
          "status": "completed"
        },
        "tags": [],
        "id": "offshore-joyce"
      },
      "outputs": [],
      "source": [
        "S = 44 # Stock price\n",
        "K = 45 # Strike price\n",
        "T = 2/12 # Time till expiration (in years)\n",
        "r = 0.06 # Risk-free interest rate\n",
        "sigma = np.sqrt(0.2) # Volatility (standard deviation)\n",
        "q = 0.05 # Annual dividend yield"
      ]
    },
    {
      "cell_type": "code",
      "execution_count": 60,
      "id": "sublime-eleven",
      "metadata": {
        "execution": {
          "iopub.execute_input": "2021-11-18T15:43:41.770175Z",
          "iopub.status.busy": "2021-11-18T15:43:41.769485Z",
          "iopub.status.idle": "2021-11-18T15:43:41.774737Z",
          "shell.execute_reply": "2021-11-18T15:43:41.775265Z",
          "shell.execute_reply.started": "2021-11-18T14:37:45.754723Z"
        },
        "papermill": {
          "duration": 0.124054,
          "end_time": "2021-11-18T15:43:41.775426",
          "exception": false,
          "start_time": "2021-11-18T15:43:41.651372",
          "status": "completed"
        },
        "tags": [],
        "colab": {
          "base_uri": "https://localhost:8080/"
        },
        "id": "sublime-eleven",
        "outputId": "9a781d71-43f0-4cbe-8c98-24a9ed97de14"
      },
      "outputs": [
        {
          "output_type": "execute_result",
          "data": {
            "text/plain": [
              "2.7692191859846638"
            ]
          },
          "metadata": {},
          "execution_count": 60
        }
      ],
      "source": [
        "BlackScholesDividend().call_price(S, K, T, r, sigma, q)"
      ]
    },
    {
      "cell_type": "code",
      "execution_count": 61,
      "id": "adjacent-karaoke",
      "metadata": {
        "execution": {
          "iopub.execute_input": "2021-11-18T15:43:42.007412Z",
          "iopub.status.busy": "2021-11-18T15:43:42.006787Z",
          "iopub.status.idle": "2021-11-18T15:43:42.012650Z",
          "shell.execute_reply": "2021-11-18T15:43:42.013222Z",
          "shell.execute_reply.started": "2021-11-18T14:37:45.772234Z"
        },
        "papermill": {
          "duration": 0.12399,
          "end_time": "2021-11-18T15:43:42.013385",
          "exception": false,
          "start_time": "2021-11-18T15:43:41.889395",
          "status": "completed"
        },
        "tags": [],
        "colab": {
          "base_uri": "https://localhost:8080/"
        },
        "id": "adjacent-karaoke",
        "outputId": "da31d413-36eb-4928-dc7c-b1edff4c09a8"
      },
      "outputs": [
        {
          "output_type": "execute_result",
          "data": {
            "text/plain": [
              "3.686604828586688"
            ]
          },
          "metadata": {},
          "execution_count": 61
        }
      ],
      "source": [
        "BlackScholesDividend().put_price(S, K, T, r, sigma, q)"
      ]
    },
    {
      "cell_type": "markdown",
      "id": "planned-custom",
      "metadata": {
        "papermill": {
          "duration": 0.114251,
          "end_time": "2021-11-18T15:43:42.241695",
          "exception": false,
          "start_time": "2021-11-18T15:43:42.127444",
          "status": "completed"
        },
        "tags": [],
        "id": "planned-custom"
      },
      "source": [
        "## BONUS: Speeding up option price calculations"
      ]
    },
    {
      "cell_type": "markdown",
      "id": "convenient-chemistry",
      "metadata": {
        "papermill": {
          "duration": 0.114162,
          "end_time": "2021-11-18T15:43:42.470118",
          "exception": false,
          "start_time": "2021-11-18T15:43:42.355956",
          "status": "completed"
        },
        "tags": [],
        "id": "convenient-chemistry"
      },
      "source": [
        "![This](https://img.memecdn.com/Flying-Cat_o_24752.jpg)"
      ]
    },
    {
      "cell_type": "markdown",
      "id": "through-composite",
      "metadata": {
        "papermill": {
          "duration": 0.115313,
          "end_time": "2021-11-18T15:43:42.698832",
          "exception": false,
          "start_time": "2021-11-18T15:43:42.583519",
          "status": "completed"
        },
        "tags": [],
        "id": "through-composite"
      },
      "source": [
        "You might have noticed that working with Black-Scholes involves computing the cumulative distribution function (CDF) ($\\Phi(.)$) and probability density function (PDF) ($\\phi(.))$ of a standard normal distribution $N(0, 1)$. The library we use for this (scipy.norm) does multiple checks under the hood and can therefore be sped up substantially. We also leverage some other tricks to optimize our calculations.\n",
        "\n",
        "### 1. scipy.special.ndtr\n",
        "\n",
        "The first trick is to replace [norm.cdf](https://docs.scipy.org/doc/scipy/reference/generated/scipy.stats.norm.html) by [scipy.special.ndtr](https://docs.scipy.org/doc/scipy/reference/generated/scipy.special.ndtr.html). ndtr is a function that norm.cdf also calls under the hood, but in this case we skip the datatype checks. Let's take the calculation of a call option's Theta as an example. We compare the run time with our original implementation from the section on The Greeks."
      ]
    },
    {
      "cell_type": "code",
      "execution_count": 62,
      "id": "finnish-accommodation",
      "metadata": {
        "execution": {
          "iopub.execute_input": "2021-11-18T15:43:42.931078Z",
          "iopub.status.busy": "2021-11-18T15:43:42.930464Z",
          "iopub.status.idle": "2021-11-18T15:43:42.934570Z",
          "shell.execute_reply": "2021-11-18T15:43:42.935128Z",
          "shell.execute_reply.started": "2021-11-18T14:37:45.783473Z"
        },
        "papermill": {
          "duration": 0.121395,
          "end_time": "2021-11-18T15:43:42.935285",
          "exception": false,
          "start_time": "2021-11-18T15:43:42.813890",
          "status": "completed"
        },
        "tags": [],
        "id": "finnish-accommodation"
      },
      "outputs": [],
      "source": [
        "S = 36 # Stock price\n",
        "K = 35 # Strike price\n",
        "T = 2/12 # Time till expiration (in years)\n",
        "r = 0.05 # Risk-free interest rate\n",
        "sigma = np.sqrt(1/68) # Volatility (standard deviation)"
      ]
    },
    {
      "cell_type": "code",
      "execution_count": 63,
      "id": "chubby-electron",
      "metadata": {
        "execution": {
          "iopub.execute_input": "2021-11-18T15:43:43.171881Z",
          "iopub.status.busy": "2021-11-18T15:43:43.171256Z",
          "iopub.status.idle": "2021-11-18T15:43:43.173110Z",
          "shell.execute_reply": "2021-11-18T15:43:43.173545Z",
          "shell.execute_reply.started": "2021-11-18T14:37:45.792817Z"
        },
        "papermill": {
          "duration": 0.124504,
          "end_time": "2021-11-18T15:43:43.173711",
          "exception": false,
          "start_time": "2021-11-18T15:43:43.049207",
          "status": "completed"
        },
        "tags": [],
        "id": "chubby-electron"
      },
      "outputs": [],
      "source": [
        "from scipy.special import ndtr\n",
        "\n",
        "def _d1(S, K, T, r, sigma):\n",
        "    return (1 / (sigma * np.sqrt(T))) * (np.log(S/K) + (r + sigma**2 / 2) * T)\n",
        "    \n",
        "def _d2(S, K, T, r, sigma):\n",
        "    return _d1(S, K, T, r, sigma) - sigma * np.sqrt(T)\n",
        "    \n",
        "def fast_theta(S, K, T, r, sigma):\n",
        "    d1 = _d1(S, K, T, r, sigma)\n",
        "    d2 = _d2(S, K, T, r, sigma)\n",
        "    return - ((S * norm.pdf(d1) * sigma) / (2 * np.sqrt(T))) - r * K * np.exp(-r*T) * ndtr(d2)"
      ]
    },
    {
      "cell_type": "code",
      "execution_count": 64,
      "id": "proprietary-syria",
      "metadata": {
        "execution": {
          "iopub.execute_input": "2021-11-18T15:43:43.404747Z",
          "iopub.status.busy": "2021-11-18T15:43:43.404157Z",
          "iopub.status.idle": "2021-11-18T15:43:43.409832Z",
          "shell.execute_reply": "2021-11-18T15:43:43.410356Z",
          "shell.execute_reply.started": "2021-11-18T14:37:45.804149Z"
        },
        "papermill": {
          "duration": 0.122674,
          "end_time": "2021-11-18T15:43:43.410518",
          "exception": false,
          "start_time": "2021-11-18T15:43:43.287844",
          "status": "completed"
        },
        "tags": [],
        "colab": {
          "base_uri": "https://localhost:8080/"
        },
        "id": "proprietary-syria",
        "outputId": "a9bfe666-c43b-45f2-ec9e-1645bebfc6c5"
      },
      "outputs": [
        {
          "output_type": "execute_result",
          "data": {
            "text/plain": [
              "-2.917805075810147"
            ]
          },
          "metadata": {},
          "execution_count": 64
        }
      ],
      "source": [
        "bsg = BlackScholesGreeks()\n",
        "bsg.call_theta(S, K, T, r, sigma)"
      ]
    },
    {
      "cell_type": "code",
      "execution_count": 65,
      "id": "genetic-museum",
      "metadata": {
        "execution": {
          "iopub.execute_input": "2021-11-18T15:43:43.642226Z",
          "iopub.status.busy": "2021-11-18T15:43:43.641589Z",
          "iopub.status.idle": "2021-11-18T15:43:45.959865Z",
          "shell.execute_reply": "2021-11-18T15:43:45.959243Z",
          "shell.execute_reply.started": "2021-11-18T14:37:45.821411Z"
        },
        "papermill": {
          "duration": 2.435088,
          "end_time": "2021-11-18T15:43:45.960050",
          "exception": false,
          "start_time": "2021-11-18T15:43:43.524962",
          "status": "completed"
        },
        "tags": [],
        "colab": {
          "base_uri": "https://localhost:8080/"
        },
        "id": "genetic-museum",
        "outputId": "9150247d-adae-4b85-c549-7ce6f73fe7ee"
      },
      "outputs": [
        {
          "output_type": "stream",
          "name": "stdout",
          "text": [
            "1000 loops, best of 5: 242 µs per loop\n"
          ]
        }
      ],
      "source": [
        "%%timeit\n",
        "bsg.call_theta(S, K, T, r, sigma)"
      ]
    },
    {
      "cell_type": "code",
      "execution_count": 66,
      "id": "growing-insulation",
      "metadata": {
        "execution": {
          "iopub.execute_input": "2021-11-18T15:43:46.200501Z",
          "iopub.status.busy": "2021-11-18T15:43:46.199849Z",
          "iopub.status.idle": "2021-11-18T15:43:46.204772Z",
          "shell.execute_reply": "2021-11-18T15:43:46.205236Z",
          "shell.execute_reply.started": "2021-11-18T14:37:48.176661Z"
        },
        "papermill": {
          "duration": 0.12359,
          "end_time": "2021-11-18T15:43:46.205407",
          "exception": false,
          "start_time": "2021-11-18T15:43:46.081817",
          "status": "completed"
        },
        "tags": [],
        "colab": {
          "base_uri": "https://localhost:8080/"
        },
        "id": "growing-insulation",
        "outputId": "63b3891b-1cff-457c-c972-a234c9754e45"
      },
      "outputs": [
        {
          "output_type": "execute_result",
          "data": {
            "text/plain": [
              "-2.917805075810147"
            ]
          },
          "metadata": {},
          "execution_count": 66
        }
      ],
      "source": [
        "fast_theta(S, K, T, r, sigma)"
      ]
    },
    {
      "cell_type": "code",
      "execution_count": 67,
      "id": "resistant-digest",
      "metadata": {
        "execution": {
          "iopub.execute_input": "2021-11-18T15:43:46.442826Z",
          "iopub.status.busy": "2021-11-18T15:43:46.441808Z",
          "iopub.status.idle": "2021-11-18T15:43:59.823043Z",
          "shell.execute_reply": "2021-11-18T15:43:59.822457Z",
          "shell.execute_reply.started": "2021-11-18T14:37:48.185978Z"
        },
        "papermill": {
          "duration": 13.501377,
          "end_time": "2021-11-18T15:43:59.823195",
          "exception": false,
          "start_time": "2021-11-18T15:43:46.321818",
          "status": "completed"
        },
        "tags": [],
        "colab": {
          "base_uri": "https://localhost:8080/"
        },
        "id": "resistant-digest",
        "outputId": "e7736347-3afd-45c0-d6fe-ba42207d0199"
      },
      "outputs": [
        {
          "output_type": "stream",
          "name": "stdout",
          "text": [
            "10000 loops, best of 5: 130 µs per loop\n"
          ]
        }
      ],
      "source": [
        "%%timeit\n",
        "fast_theta(S, K, T, r, sigma)"
      ]
    },
    {
      "cell_type": "markdown",
      "id": "eligible-conjunction",
      "metadata": {
        "papermill": {
          "duration": 0.116131,
          "end_time": "2021-11-18T15:44:00.055163",
          "exception": false,
          "start_time": "2021-11-18T15:43:59.939032",
          "status": "completed"
        },
        "tags": [],
        "id": "eligible-conjunction"
      },
      "source": [
        "### 2. norm._pdf"
      ]
    },
    {
      "cell_type": "markdown",
      "id": "original-rocket",
      "metadata": {
        "papermill": {
          "duration": 0.115307,
          "end_time": "2021-11-18T15:44:00.288327",
          "exception": false,
          "start_time": "2021-11-18T15:44:00.173020",
          "status": "completed"
        },
        "tags": [],
        "id": "original-rocket"
      },
      "source": [
        "Voilà! An almost 2x speedup. Now we can further speed it up by replacing norm.pdf by norm._pdf. Note that this skips a few checks and we have to take care that our input variables are valid."
      ]
    },
    {
      "cell_type": "code",
      "execution_count": 68,
      "id": "sorted-lodging",
      "metadata": {
        "execution": {
          "iopub.execute_input": "2021-11-18T15:44:00.523103Z",
          "iopub.status.busy": "2021-11-18T15:44:00.522469Z",
          "iopub.status.idle": "2021-11-18T15:44:00.527600Z",
          "shell.execute_reply": "2021-11-18T15:44:00.528213Z",
          "shell.execute_reply.started": "2021-11-18T14:38:01.475029Z"
        },
        "papermill": {
          "duration": 0.124443,
          "end_time": "2021-11-18T15:44:00.528376",
          "exception": false,
          "start_time": "2021-11-18T15:44:00.403933",
          "status": "completed"
        },
        "tags": [],
        "id": "sorted-lodging"
      },
      "outputs": [],
      "source": [
        "def faster_theta(S, K, T, r, sigma):\n",
        "    d1 = _d1(S, K, T, r, sigma)\n",
        "    d2 = _d2(S, K, T, r, sigma)\n",
        "    return - ((S * norm._pdf(d1) * sigma) / (2 * np.sqrt(T))) - r * K * np.exp(-r*T) * ndtr(d2)"
      ]
    },
    {
      "cell_type": "code",
      "execution_count": 69,
      "id": "respiratory-bride",
      "metadata": {
        "execution": {
          "iopub.execute_input": "2021-11-18T15:44:00.762637Z",
          "iopub.status.busy": "2021-11-18T15:44:00.762024Z",
          "iopub.status.idle": "2021-11-18T15:44:00.766912Z",
          "shell.execute_reply": "2021-11-18T15:44:00.767498Z",
          "shell.execute_reply.started": "2021-11-18T14:38:01.484612Z"
        },
        "papermill": {
          "duration": 0.123779,
          "end_time": "2021-11-18T15:44:00.767656",
          "exception": false,
          "start_time": "2021-11-18T15:44:00.643877",
          "status": "completed"
        },
        "tags": [],
        "colab": {
          "base_uri": "https://localhost:8080/"
        },
        "id": "respiratory-bride",
        "outputId": "ca1e4662-4788-41f9-9e30-0fa54a85ed76"
      },
      "outputs": [
        {
          "output_type": "execute_result",
          "data": {
            "text/plain": [
              "-2.917805075810147"
            ]
          },
          "metadata": {},
          "execution_count": 69
        }
      ],
      "source": [
        "faster_theta(S, K, T, r, sigma)"
      ]
    },
    {
      "cell_type": "code",
      "execution_count": 70,
      "id": "efficient-conducting",
      "metadata": {
        "execution": {
          "iopub.execute_input": "2021-11-18T15:44:01.004143Z",
          "iopub.status.busy": "2021-11-18T15:44:01.003209Z",
          "iopub.status.idle": "2021-11-18T15:44:03.322225Z",
          "shell.execute_reply": "2021-11-18T15:44:03.322725Z",
          "shell.execute_reply.started": "2021-11-18T14:38:01.498813Z"
        },
        "papermill": {
          "duration": 2.439187,
          "end_time": "2021-11-18T15:44:03.322894",
          "exception": false,
          "start_time": "2021-11-18T15:44:00.883707",
          "status": "completed"
        },
        "tags": [],
        "colab": {
          "base_uri": "https://localhost:8080/"
        },
        "id": "efficient-conducting",
        "outputId": "9e5f9941-5da1-4a19-bf80-f60041420b9c"
      },
      "outputs": [
        {
          "output_type": "stream",
          "name": "stdout",
          "text": [
            "The slowest run took 8.04 times longer than the fastest. This could mean that an intermediate result is being cached.\n",
            "100000 loops, best of 5: 13.6 µs per loop\n"
          ]
        }
      ],
      "source": [
        "%%timeit\n",
        "faster_theta(S, K, T, r, sigma)"
      ]
    },
    {
      "cell_type": "markdown",
      "id": "criminal-airplane",
      "metadata": {
        "papermill": {
          "duration": 0.117764,
          "end_time": "2021-11-18T15:44:03.557149",
          "exception": false,
          "start_time": "2021-11-18T15:44:03.439385",
          "status": "completed"
        },
        "tags": [],
        "id": "criminal-airplane"
      },
      "source": [
        "### 3. JIT compilation with Numba"
      ]
    },
    {
      "cell_type": "markdown",
      "id": "current-tulsa",
      "metadata": {
        "papermill": {
          "duration": 0.118469,
          "end_time": "2021-11-18T15:44:03.791304",
          "exception": false,
          "start_time": "2021-11-18T15:44:03.672835",
          "status": "completed"
        },
        "tags": [],
        "id": "current-tulsa"
      },
      "source": [
        "An substantial speedup! Now for the nerds who have not fallen asleep yet, we can go one step further to compute this thing in a few hundred nanoseconds. Note that we use a lot of NumPy function and basic operations in our calculation. Therefore, we can leverage [just in time (JIT) compilation with Numba](http://numba.pydata.org/) to speed up the computation. This requires us to reimplement the Scipy functions from scratch."
      ]
    },
    {
      "cell_type": "code",
      "execution_count": 71,
      "id": "proper-assurance",
      "metadata": {
        "execution": {
          "iopub.execute_input": "2021-11-18T15:44:04.036382Z",
          "iopub.status.busy": "2021-11-18T15:44:04.034827Z",
          "iopub.status.idle": "2021-11-18T15:44:04.933378Z",
          "shell.execute_reply": "2021-11-18T15:44:04.932781Z",
          "shell.execute_reply.started": "2021-11-18T14:38:03.780117Z"
        },
        "papermill": {
          "duration": 1.025989,
          "end_time": "2021-11-18T15:44:04.933530",
          "exception": false,
          "start_time": "2021-11-18T15:44:03.907541",
          "status": "completed"
        },
        "tags": [],
        "id": "proper-assurance"
      },
      "outputs": [],
      "source": [
        "from math import erf\n",
        "from numba import jit\n",
        "\n",
        "@jit\n",
        "def pdf_phi(x):\n",
        "    \"\"\" PDF of standard normal distribution \"\"\"\n",
        "    return np.exp(-x**2/2) / np.sqrt(2*np.pi)\n",
        "\n",
        "@jit\n",
        "def cdf_phi(x):\n",
        "    \"\"\" CDF of standard normal distribution \"\"\"\n",
        "    return (1. + erf(x / np.sqrt(2.))) / 2.\n",
        "\n",
        "@jit\n",
        "def _d1(S, K, T, r, sigma):\n",
        "    return (1 / (sigma * np.sqrt(T))) * (np.log(S/K) + (r + sigma**2 / 2) * T)\n",
        "    \n",
        "@jit\n",
        "def _d2(S, K, T, r, sigma):\n",
        "    return _d1(S, K, T, r, sigma) - sigma * np.sqrt(T)\n",
        "\n",
        "@jit\n",
        "def faster_theta_jit(S, K, T, r, sigma):\n",
        "    d1 = _d1(S, K, T, r, sigma)\n",
        "    d2 = _d2(S, K, T, r, sigma)\n",
        "    return - ((S * pdf_phi(d1) * sigma) / (2 * np.sqrt(T))) - r * K * np.exp(-r*T) * cdf_phi(d2)"
      ]
    },
    {
      "cell_type": "code",
      "execution_count": 72,
      "id": "abandoned-graphic",
      "metadata": {
        "execution": {
          "iopub.execute_input": "2021-11-18T15:44:05.171856Z",
          "iopub.status.busy": "2021-11-18T15:44:05.170841Z",
          "iopub.status.idle": "2021-11-18T15:44:06.005558Z",
          "shell.execute_reply": "2021-11-18T15:44:06.006091Z",
          "shell.execute_reply.started": "2021-11-18T14:38:04.608639Z"
        },
        "papermill": {
          "duration": 0.956001,
          "end_time": "2021-11-18T15:44:06.006259",
          "exception": false,
          "start_time": "2021-11-18T15:44:05.050258",
          "status": "completed"
        },
        "tags": [],
        "colab": {
          "base_uri": "https://localhost:8080/"
        },
        "id": "abandoned-graphic",
        "outputId": "229e68a6-ac45-45d9-8909-06cccf045f76"
      },
      "outputs": [
        {
          "output_type": "execute_result",
          "data": {
            "text/plain": [
              "-2.917805075810147"
            ]
          },
          "metadata": {},
          "execution_count": 72
        }
      ],
      "source": [
        "faster_theta_jit(S, K, T, r, sigma)"
      ]
    },
    {
      "cell_type": "code",
      "execution_count": 73,
      "id": "native-hampshire",
      "metadata": {
        "execution": {
          "iopub.execute_input": "2021-11-18T15:44:06.277281Z",
          "iopub.status.busy": "2021-11-18T15:44:06.261621Z",
          "iopub.status.idle": "2021-11-18T15:44:13.020368Z",
          "shell.execute_reply": "2021-11-18T15:44:13.020814Z",
          "shell.execute_reply.started": "2021-11-18T14:38:05.597059Z"
        },
        "papermill": {
          "duration": 6.895804,
          "end_time": "2021-11-18T15:44:13.021003",
          "exception": false,
          "start_time": "2021-11-18T15:44:06.125199",
          "status": "completed"
        },
        "tags": [],
        "colab": {
          "base_uri": "https://localhost:8080/"
        },
        "id": "native-hampshire",
        "outputId": "e661da1c-e6aa-4de4-f43c-891de2f21e89"
      },
      "outputs": [
        {
          "output_type": "stream",
          "name": "stdout",
          "text": [
            "The slowest run took 28.22 times longer than the fastest. This could mean that an intermediate result is being cached.\n",
            "1000000 loops, best of 5: 546 ns per loop\n"
          ]
        }
      ],
      "source": [
        "%%timeit\n",
        "faster_theta_jit(S, K, T, r, sigma)"
      ]
    },
    {
      "cell_type": "markdown",
      "id": "otherwise-afghanistan",
      "metadata": {
        "papermill": {
          "duration": 0.116744,
          "end_time": "2021-11-18T15:44:13.257751",
          "exception": false,
          "start_time": "2021-11-18T15:44:13.141007",
          "status": "completed"
        },
        "tags": [],
        "id": "otherwise-afghanistan"
      },
      "source": [
        "And that is one last 35x speedup over the last version! Most functions that feature basic operations or a lot of NumPy can be transformed with JIT compilation, but the speedup may not be that large in some cases."
      ]
    },
    {
      "cell_type": "markdown",
      "id": "textile-wisdom",
      "metadata": {
        "papermill": {
          "duration": 0.116047,
          "end_time": "2021-11-18T15:44:13.489932",
          "exception": false,
          "start_time": "2021-11-18T15:44:13.373885",
          "status": "completed"
        },
        "tags": [],
        "id": "textile-wisdom"
      },
      "source": [
        "## Follow-ups"
      ]
    },
    {
      "cell_type": "markdown",
      "id": "tired-local",
      "metadata": {
        "papermill": {
          "duration": 0.116535,
          "end_time": "2021-11-18T15:44:13.723391",
          "exception": false,
          "start_time": "2021-11-18T15:44:13.606856",
          "status": "completed"
        },
        "tags": [],
        "id": "tired-local"
      },
      "source": [
        "If you are interested in learning more about quantitative finance, here are some resources I would recommend you check out."
      ]
    },
    {
      "cell_type": "markdown",
      "id": "fresh-subcommittee",
      "metadata": {
        "papermill": {
          "duration": 0.117682,
          "end_time": "2021-11-18T15:44:13.958718",
          "exception": false,
          "start_time": "2021-11-18T15:44:13.841036",
          "status": "completed"
        },
        "tags": [],
        "id": "fresh-subcommittee"
      },
      "source": [
        "### Video material"
      ]
    },
    {
      "cell_type": "markdown",
      "id": "beginning-infrared",
      "metadata": {
        "papermill": {
          "duration": 0.116612,
          "end_time": "2021-11-18T15:44:14.193748",
          "exception": false,
          "start_time": "2021-11-18T15:44:14.077136",
          "status": "completed"
        },
        "tags": [],
        "id": "beginning-infrared"
      },
      "source": [
        "[Patrick Boyle On Finance (Video playlists on Financial Mathematics and awesome finance channel in general)](https://www.youtube.com/c/PatrickBoyleOnFinance)\n",
        "\n",
        "[Quantatative Risk Management course by Pasquale Cirillo](https://www.youtube.com/c/PatrickBoyleOnFinance)"
      ]
    },
    {
      "cell_type": "markdown",
      "id": "indirect-assembly",
      "metadata": {
        "papermill": {
          "duration": 0.117002,
          "end_time": "2021-11-18T15:44:14.427618",
          "exception": false,
          "start_time": "2021-11-18T15:44:14.310616",
          "status": "completed"
        },
        "tags": [],
        "id": "indirect-assembly"
      },
      "source": [
        "### Books"
      ]
    },
    {
      "cell_type": "markdown",
      "id": "transsexual-found",
      "metadata": {
        "papermill": {
          "duration": 0.116666,
          "end_time": "2021-11-18T15:44:14.664256",
          "exception": false,
          "start_time": "2021-11-18T15:44:14.547590",
          "status": "completed"
        },
        "tags": [],
        "id": "transsexual-found"
      },
      "source": [
        "**Textbooks:**\n",
        "\n",
        "Investment Science - David Luenberger\n",
        "\n",
        "[Python for Finance - Yves Hilpisch](https://www.oreilly.com/library/view/python-for-finance/9781492024323/)\n",
        "\n",
        "**(Auto)biographies:**\n",
        "\n",
        "My life as a quant - Emanuel Derman\n",
        "\n",
        "A Man For All Markets: From Las Vegas to Wall Street, How I Beat the Dealer and the Market - Edward Thorp\n",
        "\n",
        "The Man Who Solved The Market: How Jim Simons Launched the Quant Revolution - Gregory Zuckerman"
      ]
    },
    {
      "cell_type": "markdown",
      "id": "standard-picnic",
      "metadata": {
        "papermill": {
          "duration": 0.116674,
          "end_time": "2021-11-18T15:44:14.897504",
          "exception": false,
          "start_time": "2021-11-18T15:44:14.780830",
          "status": "completed"
        },
        "tags": [],
        "id": "standard-picnic"
      },
      "source": [
        "## Courses"
      ]
    },
    {
      "cell_type": "markdown",
      "id": "ecological-smart",
      "metadata": {
        "papermill": {
          "duration": 0.116094,
          "end_time": "2021-11-18T15:44:15.131050",
          "exception": false,
          "start_time": "2021-11-18T15:44:15.014956",
          "status": "completed"
        },
        "tags": [],
        "id": "ecological-smart"
      },
      "source": [
        "[Udacity - Machine Learning for Trading](https://www.udacity.com/course/machine-learning-for-trading--ud501)\n",
        "\n",
        "[Udacity - Artifial Intelligence for trading (paid Nanodegree program)](https://www.udacity.com/course/ai-for-trading--nd880)"
      ]
    },
    {
      "cell_type": "markdown",
      "id": "through-person",
      "metadata": {
        "papermill": {
          "duration": 0.118585,
          "end_time": "2021-11-18T15:44:15.366379",
          "exception": false,
          "start_time": "2021-11-18T15:44:15.247794",
          "status": "completed"
        },
        "tags": [],
        "id": "through-person"
      },
      "source": [
        "And don't forget:"
      ]
    },
    {
      "cell_type": "markdown",
      "id": "straight-thursday",
      "metadata": {
        "papermill": {
          "duration": 0.116201,
          "end_time": "2021-11-18T15:44:15.601753",
          "exception": false,
          "start_time": "2021-11-18T15:44:15.485552",
          "status": "completed"
        },
        "tags": [],
        "id": "straight-thursday"
      },
      "source": [
        "![](https://i.pinimg.com/originals/07/48/40/07484051f93b50545e090eb302f6adc2.jpg)"
      ]
    },
    {
      "cell_type": "markdown",
      "id": "favorite-bicycle",
      "metadata": {
        "papermill": {
          "duration": 0.116862,
          "end_time": "2021-11-18T15:44:15.837175",
          "exception": false,
          "start_time": "2021-11-18T15:44:15.720313",
          "status": "completed"
        },
        "tags": [],
        "id": "favorite-bicycle"
      },
      "source": [
        "That's it! I hope this notebook gave you a clear overview of core concepts in financial mathematics and quantitative finance!\n",
        "\n",
        "If you have any questions or feedback, feel free to comment and/or upvote the notebook below. You can also contact me on Twitter [@carlolepelaars](https://twitter.com/carlolepelaars)."
      ]
    }
  ],
  "metadata": {
    "kernelspec": {
      "display_name": "Python 3",
      "language": "python",
      "name": "python3"
    },
    "language_info": {
      "codemirror_mode": {
        "name": "ipython",
        "version": 3
      },
      "file_extension": ".py",
      "mimetype": "text/x-python",
      "name": "python",
      "nbconvert_exporter": "python",
      "pygments_lexer": "ipython3",
      "version": "3.7.10"
    },
    "papermill": {
      "default_parameters": {},
      "duration": 75.144638,
      "end_time": "2021-11-18T15:44:16.763815",
      "environment_variables": {},
      "exception": null,
      "input_path": "__notebook__.ipynb",
      "output_path": "__notebook__.ipynb",
      "parameters": {},
      "start_time": "2021-11-18T15:43:01.619177",
      "version": "2.3.3"
    },
    "colab": {
      "name": "introduction-to-financial-mathematics.ipynb",
      "provenance": []
    }
  },
  "nbformat": 4,
  "nbformat_minor": 5
}